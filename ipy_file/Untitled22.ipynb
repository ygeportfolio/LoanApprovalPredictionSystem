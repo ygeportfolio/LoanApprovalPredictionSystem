{
 "cells": [
  {
   "cell_type": "markdown",
   "id": "3adf369e",
   "metadata": {},
   "source": [
    "# Importing Necessary Packages"
   ]
  },
  {
   "cell_type": "code",
   "execution_count": 1,
   "id": "6b699a10",
   "metadata": {},
   "outputs": [],
   "source": [
    "import pandas as pd\n",
    "import numpy as np\n",
    "import seaborn as sns\n",
    "import matplotlib.pyplot as plt\n",
    "get_ipython().run_line_magic('matplotlib', 'inline')"
   ]
  },
  {
   "cell_type": "markdown",
   "id": "83dc8e49",
   "metadata": {},
   "source": [
    "# Loading Data Into Dataframe"
   ]
  },
  {
   "cell_type": "code",
   "execution_count": 2,
   "id": "dd875156",
   "metadata": {},
   "outputs": [],
   "source": [
    "df = pd.read_csv(r'C:\\Users\\falco\\OneDrive\\Desktop\\PROJECTS\\PYTHON PROJECTS\\MY PROJECTS\\MACHINE LEARNING\\Loan Approval\\Loan.csv')"
   ]
  },
  {
   "cell_type": "markdown",
   "id": "de93f35f",
   "metadata": {},
   "source": [
    "# Visualizins Top 5 Rows"
   ]
  },
  {
   "cell_type": "code",
   "execution_count": 3,
   "id": "963f134b",
   "metadata": {},
   "outputs": [
    {
     "data": {
      "text/html": [
       "<div>\n",
       "<style scoped>\n",
       "    .dataframe tbody tr th:only-of-type {\n",
       "        vertical-align: middle;\n",
       "    }\n",
       "\n",
       "    .dataframe tbody tr th {\n",
       "        vertical-align: top;\n",
       "    }\n",
       "\n",
       "    .dataframe thead th {\n",
       "        text-align: right;\n",
       "    }\n",
       "</style>\n",
       "<table border=\"1\" class=\"dataframe\">\n",
       "  <thead>\n",
       "    <tr style=\"text-align: right;\">\n",
       "      <th></th>\n",
       "      <th>Loan_ID</th>\n",
       "      <th>Gender</th>\n",
       "      <th>Married</th>\n",
       "      <th>Dependents</th>\n",
       "      <th>Education</th>\n",
       "      <th>Self_Employed</th>\n",
       "      <th>ApplicantIncome</th>\n",
       "      <th>CoapplicantIncome</th>\n",
       "      <th>LoanAmount</th>\n",
       "      <th>Loan_Amount_Term</th>\n",
       "      <th>Credit_History</th>\n",
       "      <th>Property_Area</th>\n",
       "      <th>Loan_Status</th>\n",
       "    </tr>\n",
       "  </thead>\n",
       "  <tbody>\n",
       "    <tr>\n",
       "      <th>0</th>\n",
       "      <td>LP001002</td>\n",
       "      <td>Male</td>\n",
       "      <td>No</td>\n",
       "      <td>0</td>\n",
       "      <td>Graduate</td>\n",
       "      <td>No</td>\n",
       "      <td>5849</td>\n",
       "      <td>0.0</td>\n",
       "      <td>NaN</td>\n",
       "      <td>360.0</td>\n",
       "      <td>1.0</td>\n",
       "      <td>Urban</td>\n",
       "      <td>Y</td>\n",
       "    </tr>\n",
       "    <tr>\n",
       "      <th>1</th>\n",
       "      <td>LP001003</td>\n",
       "      <td>Male</td>\n",
       "      <td>Yes</td>\n",
       "      <td>1</td>\n",
       "      <td>Graduate</td>\n",
       "      <td>No</td>\n",
       "      <td>4583</td>\n",
       "      <td>1508.0</td>\n",
       "      <td>128.0</td>\n",
       "      <td>360.0</td>\n",
       "      <td>1.0</td>\n",
       "      <td>Rural</td>\n",
       "      <td>N</td>\n",
       "    </tr>\n",
       "    <tr>\n",
       "      <th>2</th>\n",
       "      <td>LP001005</td>\n",
       "      <td>Male</td>\n",
       "      <td>Yes</td>\n",
       "      <td>0</td>\n",
       "      <td>Graduate</td>\n",
       "      <td>Yes</td>\n",
       "      <td>3000</td>\n",
       "      <td>0.0</td>\n",
       "      <td>66.0</td>\n",
       "      <td>360.0</td>\n",
       "      <td>1.0</td>\n",
       "      <td>Urban</td>\n",
       "      <td>Y</td>\n",
       "    </tr>\n",
       "    <tr>\n",
       "      <th>3</th>\n",
       "      <td>LP001006</td>\n",
       "      <td>Male</td>\n",
       "      <td>Yes</td>\n",
       "      <td>0</td>\n",
       "      <td>Not Graduate</td>\n",
       "      <td>No</td>\n",
       "      <td>2583</td>\n",
       "      <td>2358.0</td>\n",
       "      <td>120.0</td>\n",
       "      <td>360.0</td>\n",
       "      <td>1.0</td>\n",
       "      <td>Urban</td>\n",
       "      <td>Y</td>\n",
       "    </tr>\n",
       "    <tr>\n",
       "      <th>4</th>\n",
       "      <td>LP001008</td>\n",
       "      <td>Male</td>\n",
       "      <td>No</td>\n",
       "      <td>0</td>\n",
       "      <td>Graduate</td>\n",
       "      <td>No</td>\n",
       "      <td>6000</td>\n",
       "      <td>0.0</td>\n",
       "      <td>141.0</td>\n",
       "      <td>360.0</td>\n",
       "      <td>1.0</td>\n",
       "      <td>Urban</td>\n",
       "      <td>Y</td>\n",
       "    </tr>\n",
       "  </tbody>\n",
       "</table>\n",
       "</div>"
      ],
      "text/plain": [
       "    Loan_ID Gender Married Dependents     Education Self_Employed  \\\n",
       "0  LP001002   Male      No          0      Graduate            No   \n",
       "1  LP001003   Male     Yes          1      Graduate            No   \n",
       "2  LP001005   Male     Yes          0      Graduate           Yes   \n",
       "3  LP001006   Male     Yes          0  Not Graduate            No   \n",
       "4  LP001008   Male      No          0      Graduate            No   \n",
       "\n",
       "   ApplicantIncome  CoapplicantIncome  LoanAmount  Loan_Amount_Term  \\\n",
       "0             5849                0.0         NaN             360.0   \n",
       "1             4583             1508.0       128.0             360.0   \n",
       "2             3000                0.0        66.0             360.0   \n",
       "3             2583             2358.0       120.0             360.0   \n",
       "4             6000                0.0       141.0             360.0   \n",
       "\n",
       "   Credit_History Property_Area Loan_Status  \n",
       "0             1.0         Urban           Y  \n",
       "1             1.0         Rural           N  \n",
       "2             1.0         Urban           Y  \n",
       "3             1.0         Urban           Y  \n",
       "4             1.0         Urban           Y  "
      ]
     },
     "execution_count": 3,
     "metadata": {},
     "output_type": "execute_result"
    }
   ],
   "source": [
    "df.head()"
   ]
  },
  {
   "cell_type": "markdown",
   "id": "31d4797b",
   "metadata": {},
   "source": [
    "# Shape Of Dataframe"
   ]
  },
  {
   "cell_type": "code",
   "execution_count": 4,
   "id": "4b28c336",
   "metadata": {},
   "outputs": [
    {
     "data": {
      "text/plain": [
       "(614, 13)"
      ]
     },
     "execution_count": 4,
     "metadata": {},
     "output_type": "execute_result"
    }
   ],
   "source": [
    "df.shape"
   ]
  },
  {
   "cell_type": "markdown",
   "id": "37511778",
   "metadata": {},
   "source": [
    "# Info On Dataframe "
   ]
  },
  {
   "cell_type": "code",
   "execution_count": 5,
   "id": "e24c10b4",
   "metadata": {},
   "outputs": [
    {
     "data": {
      "text/plain": [
       "<bound method DataFrame.info of       Loan_ID  Gender Married Dependents     Education Self_Employed  \\\n",
       "0    LP001002    Male      No          0      Graduate            No   \n",
       "1    LP001003    Male     Yes          1      Graduate            No   \n",
       "2    LP001005    Male     Yes          0      Graduate           Yes   \n",
       "3    LP001006    Male     Yes          0  Not Graduate            No   \n",
       "4    LP001008    Male      No          0      Graduate            No   \n",
       "..        ...     ...     ...        ...           ...           ...   \n",
       "609  LP002978  Female      No          0      Graduate            No   \n",
       "610  LP002979    Male     Yes         3+      Graduate            No   \n",
       "611  LP002983    Male     Yes          1      Graduate            No   \n",
       "612  LP002984    Male     Yes          2      Graduate            No   \n",
       "613  LP002990  Female      No          0      Graduate           Yes   \n",
       "\n",
       "     ApplicantIncome  CoapplicantIncome  LoanAmount  Loan_Amount_Term  \\\n",
       "0               5849                0.0         NaN             360.0   \n",
       "1               4583             1508.0       128.0             360.0   \n",
       "2               3000                0.0        66.0             360.0   \n",
       "3               2583             2358.0       120.0             360.0   \n",
       "4               6000                0.0       141.0             360.0   \n",
       "..               ...                ...         ...               ...   \n",
       "609             2900                0.0        71.0             360.0   \n",
       "610             4106                0.0        40.0             180.0   \n",
       "611             8072              240.0       253.0             360.0   \n",
       "612             7583                0.0       187.0             360.0   \n",
       "613             4583                0.0       133.0             360.0   \n",
       "\n",
       "     Credit_History Property_Area Loan_Status  \n",
       "0               1.0         Urban           Y  \n",
       "1               1.0         Rural           N  \n",
       "2               1.0         Urban           Y  \n",
       "3               1.0         Urban           Y  \n",
       "4               1.0         Urban           Y  \n",
       "..              ...           ...         ...  \n",
       "609             1.0         Rural           Y  \n",
       "610             1.0         Rural           Y  \n",
       "611             1.0         Urban           Y  \n",
       "612             1.0         Urban           Y  \n",
       "613             0.0     Semiurban           N  \n",
       "\n",
       "[614 rows x 13 columns]>"
      ]
     },
     "execution_count": 5,
     "metadata": {},
     "output_type": "execute_result"
    }
   ],
   "source": [
    "df.info"
   ]
  },
  {
   "cell_type": "markdown",
   "id": "b28e9610",
   "metadata": {},
   "source": [
    "# Description On Data"
   ]
  },
  {
   "cell_type": "code",
   "execution_count": 6,
   "id": "84ab85da",
   "metadata": {},
   "outputs": [
    {
     "data": {
      "text/html": [
       "<div>\n",
       "<style scoped>\n",
       "    .dataframe tbody tr th:only-of-type {\n",
       "        vertical-align: middle;\n",
       "    }\n",
       "\n",
       "    .dataframe tbody tr th {\n",
       "        vertical-align: top;\n",
       "    }\n",
       "\n",
       "    .dataframe thead th {\n",
       "        text-align: right;\n",
       "    }\n",
       "</style>\n",
       "<table border=\"1\" class=\"dataframe\">\n",
       "  <thead>\n",
       "    <tr style=\"text-align: right;\">\n",
       "      <th></th>\n",
       "      <th>ApplicantIncome</th>\n",
       "      <th>CoapplicantIncome</th>\n",
       "      <th>LoanAmount</th>\n",
       "      <th>Loan_Amount_Term</th>\n",
       "      <th>Credit_History</th>\n",
       "    </tr>\n",
       "  </thead>\n",
       "  <tbody>\n",
       "    <tr>\n",
       "      <th>count</th>\n",
       "      <td>614.000000</td>\n",
       "      <td>614.000000</td>\n",
       "      <td>592.000000</td>\n",
       "      <td>600.00000</td>\n",
       "      <td>564.000000</td>\n",
       "    </tr>\n",
       "    <tr>\n",
       "      <th>mean</th>\n",
       "      <td>5403.459283</td>\n",
       "      <td>1621.245798</td>\n",
       "      <td>146.412162</td>\n",
       "      <td>342.00000</td>\n",
       "      <td>0.842199</td>\n",
       "    </tr>\n",
       "    <tr>\n",
       "      <th>std</th>\n",
       "      <td>6109.041673</td>\n",
       "      <td>2926.248369</td>\n",
       "      <td>85.587325</td>\n",
       "      <td>65.12041</td>\n",
       "      <td>0.364878</td>\n",
       "    </tr>\n",
       "    <tr>\n",
       "      <th>min</th>\n",
       "      <td>150.000000</td>\n",
       "      <td>0.000000</td>\n",
       "      <td>9.000000</td>\n",
       "      <td>12.00000</td>\n",
       "      <td>0.000000</td>\n",
       "    </tr>\n",
       "    <tr>\n",
       "      <th>25%</th>\n",
       "      <td>2877.500000</td>\n",
       "      <td>0.000000</td>\n",
       "      <td>100.000000</td>\n",
       "      <td>360.00000</td>\n",
       "      <td>1.000000</td>\n",
       "    </tr>\n",
       "    <tr>\n",
       "      <th>50%</th>\n",
       "      <td>3812.500000</td>\n",
       "      <td>1188.500000</td>\n",
       "      <td>128.000000</td>\n",
       "      <td>360.00000</td>\n",
       "      <td>1.000000</td>\n",
       "    </tr>\n",
       "    <tr>\n",
       "      <th>75%</th>\n",
       "      <td>5795.000000</td>\n",
       "      <td>2297.250000</td>\n",
       "      <td>168.000000</td>\n",
       "      <td>360.00000</td>\n",
       "      <td>1.000000</td>\n",
       "    </tr>\n",
       "    <tr>\n",
       "      <th>max</th>\n",
       "      <td>81000.000000</td>\n",
       "      <td>41667.000000</td>\n",
       "      <td>700.000000</td>\n",
       "      <td>480.00000</td>\n",
       "      <td>1.000000</td>\n",
       "    </tr>\n",
       "  </tbody>\n",
       "</table>\n",
       "</div>"
      ],
      "text/plain": [
       "       ApplicantIncome  CoapplicantIncome  LoanAmount  Loan_Amount_Term  \\\n",
       "count       614.000000         614.000000  592.000000         600.00000   \n",
       "mean       5403.459283        1621.245798  146.412162         342.00000   \n",
       "std        6109.041673        2926.248369   85.587325          65.12041   \n",
       "min         150.000000           0.000000    9.000000          12.00000   \n",
       "25%        2877.500000           0.000000  100.000000         360.00000   \n",
       "50%        3812.500000        1188.500000  128.000000         360.00000   \n",
       "75%        5795.000000        2297.250000  168.000000         360.00000   \n",
       "max       81000.000000       41667.000000  700.000000         480.00000   \n",
       "\n",
       "       Credit_History  \n",
       "count      564.000000  \n",
       "mean         0.842199  \n",
       "std          0.364878  \n",
       "min          0.000000  \n",
       "25%          1.000000  \n",
       "50%          1.000000  \n",
       "75%          1.000000  \n",
       "max          1.000000  "
      ]
     },
     "execution_count": 6,
     "metadata": {},
     "output_type": "execute_result"
    }
   ],
   "source": [
    "df.describe()"
   ]
  },
  {
   "cell_type": "markdown",
   "id": "82e60e51",
   "metadata": {},
   "source": [
    "# Columns Of Dataframe"
   ]
  },
  {
   "cell_type": "code",
   "execution_count": 8,
   "id": "6f8b30fd",
   "metadata": {},
   "outputs": [
    {
     "data": {
      "text/plain": [
       "Index(['Loan_ID', 'Gender', 'Married', 'Dependents', 'Education',\n",
       "       'Self_Employed', 'ApplicantIncome', 'CoapplicantIncome', 'LoanAmount',\n",
       "       'Loan_Amount_Term', 'Credit_History', 'Property_Area', 'Loan_Status'],\n",
       "      dtype='object')"
      ]
     },
     "execution_count": 8,
     "metadata": {},
     "output_type": "execute_result"
    }
   ],
   "source": [
    "df.columns"
   ]
  },
  {
   "cell_type": "markdown",
   "id": "a41c0335",
   "metadata": {},
   "source": [
    "# Null Values In Data"
   ]
  },
  {
   "cell_type": "code",
   "execution_count": 9,
   "id": "184a8577",
   "metadata": {},
   "outputs": [
    {
     "data": {
      "text/plain": [
       "Loan_ID               0\n",
       "Gender               13\n",
       "Married               3\n",
       "Dependents           15\n",
       "Education             0\n",
       "Self_Employed        32\n",
       "ApplicantIncome       0\n",
       "CoapplicantIncome     0\n",
       "LoanAmount           22\n",
       "Loan_Amount_Term     14\n",
       "Credit_History       50\n",
       "Property_Area         0\n",
       "Loan_Status           0\n",
       "dtype: int64"
      ]
     },
     "execution_count": 9,
     "metadata": {},
     "output_type": "execute_result"
    }
   ],
   "source": [
    "df.isnull().sum()"
   ]
  },
  {
   "cell_type": "markdown",
   "id": "eb14894b",
   "metadata": {},
   "source": [
    "# Identifying Outliers in ApplicantIncome Using Boxplot"
   ]
  },
  {
   "cell_type": "code",
   "execution_count": 10,
   "id": "761e2a76",
   "metadata": {},
   "outputs": [
    {
     "data": {
      "text/plain": [
       "<Axes: >"
      ]
     },
     "execution_count": 10,
     "metadata": {},
     "output_type": "execute_result"
    },
    {
     "data": {
      "image/png": "[encoded data removed]",
      "text/plain": [
       "<Figure size 640x480 with 1 Axes>"
      ]
     },
     "metadata": {},
     "output_type": "display_data"
    }
   ],
   "source": [
    "df.boxplot(column = 'ApplicantIncome')"
   ]
  },
  {
   "cell_type": "markdown",
   "id": "3e10b350",
   "metadata": {},
   "source": [
    "# Relationship Between Credit History and loan Status using Crosstab"
   ]
  },
  {
   "cell_type": "code",
   "execution_count": 11,
   "id": "8b542902",
   "metadata": {},
   "outputs": [
    {
     "data": {
      "text/html": [
       "<div>\n",
       "<style scoped>\n",
       "    .dataframe tbody tr th:only-of-type {\n",
       "        vertical-align: middle;\n",
       "    }\n",
       "\n",
       "    .dataframe tbody tr th {\n",
       "        vertical-align: top;\n",
       "    }\n",
       "\n",
       "    .dataframe thead th {\n",
       "        text-align: right;\n",
       "    }\n",
       "</style>\n",
       "<table border=\"1\" class=\"dataframe\">\n",
       "  <thead>\n",
       "    <tr style=\"text-align: right;\">\n",
       "      <th>Loan_Status</th>\n",
       "      <th>N</th>\n",
       "      <th>Y</th>\n",
       "      <th>All</th>\n",
       "    </tr>\n",
       "    <tr>\n",
       "      <th>Credit_History</th>\n",
       "      <th></th>\n",
       "      <th></th>\n",
       "      <th></th>\n",
       "    </tr>\n",
       "  </thead>\n",
       "  <tbody>\n",
       "    <tr>\n",
       "      <th>0.0</th>\n",
       "      <td>82</td>\n",
       "      <td>7</td>\n",
       "      <td>89</td>\n",
       "    </tr>\n",
       "    <tr>\n",
       "      <th>1.0</th>\n",
       "      <td>97</td>\n",
       "      <td>378</td>\n",
       "      <td>475</td>\n",
       "    </tr>\n",
       "    <tr>\n",
       "      <th>All</th>\n",
       "      <td>179</td>\n",
       "      <td>385</td>\n",
       "      <td>564</td>\n",
       "    </tr>\n",
       "  </tbody>\n",
       "</table>\n",
       "</div>"
      ],
      "text/plain": [
       "Loan_Status       N    Y  All\n",
       "Credit_History               \n",
       "0.0              82    7   89\n",
       "1.0              97  378  475\n",
       "All             179  385  564"
      ]
     },
     "execution_count": 11,
     "metadata": {},
     "output_type": "execute_result"
    }
   ],
   "source": [
    "pd.crosstab(df['Credit_History'], df['Loan_Status'], margins = True)"
   ]
  },
  {
   "cell_type": "markdown",
   "id": "e481b6a7",
   "metadata": {},
   "source": [
    "# Findinng Skewness In Data Using Histogram"
   ]
  },
  {
   "cell_type": "code",
   "execution_count": 12,
   "id": "e946b7f0",
   "metadata": {},
   "outputs": [
    {
     "data": {
      "text/plain": [
       "<Axes: >"
      ]
     },
     "execution_count": 12,
     "metadata": {},
     "output_type": "execute_result"
    },
    {
     "data": {
      "image/png": "[encoded data removed]",
      "text/plain": [
       "<Figure size 640x480 with 1 Axes>"
      ]
     },
     "metadata": {},
     "output_type": "display_data"
    }
   ],
   "source": [
    "df['ApplicantIncome'].hist(bins = 20)"
   ]
  },
  {
   "cell_type": "code",
   "execution_count": 13,
   "id": "f0e4ef22",
   "metadata": {},
   "outputs": [
    {
     "data": {
      "text/plain": [
       "<Axes: >"
      ]
     },
     "execution_count": 13,
     "metadata": {},
     "output_type": "execute_result"
    },
    {
     "data": {
      "image/png": "[encoded data removed]",
      "text/plain": [
       "<Figure size 640x480 with 1 Axes>"
      ]
     },
     "metadata": {},
     "output_type": "display_data"
    }
   ],
   "source": [
    "df['CoapplicantIncome'].hist(bins = 20)"
   ]
  },
  {
   "cell_type": "markdown",
   "id": "4dc90f3a",
   "metadata": {},
   "source": [
    "# Relationship Between Income and Education with a Boxplot"
   ]
  },
  {
   "cell_type": "code",
   "execution_count": 14,
   "id": "00c5a59c",
   "metadata": {},
   "outputs": [
    {
     "data": {
      "text/plain": [
       "<Axes: title={'center': 'ApplicantIncome'}, xlabel='Education'>"
      ]
     },
     "execution_count": 14,
     "metadata": {},
     "output_type": "execute_result"
    },
    {
     "data": {
      "image/png": "[encoded data removed]",
      "text/plain": [
       "<Figure size 640x480 with 1 Axes>"
      ]
     },
     "metadata": {},
     "output_type": "display_data"
    }
   ],
   "source": [
    "df.boxplot(column = 'ApplicantIncome', by = 'Education')"
   ]
  },
  {
   "cell_type": "markdown",
   "id": "8162e257",
   "metadata": {},
   "source": [
    "# Relationship Between Loan Amount and Education with a Boxplot"
   ]
  },
  {
   "cell_type": "code",
   "execution_count": 15,
   "id": "863e8235",
   "metadata": {},
   "outputs": [
    {
     "data": {
      "text/plain": [
       "<Axes: title={'center': 'LoanAmount'}, xlabel='Education'>"
      ]
     },
     "execution_count": 15,
     "metadata": {},
     "output_type": "execute_result"
    },
    {
     "data": {
      "image/png": "[encoded data removed]",
      "text/plain": [
       "<Figure size 640x480 with 1 Axes>"
      ]
     },
     "metadata": {},
     "output_type": "display_data"
    }
   ],
   "source": [
    "df.boxplot(column = 'LoanAmount', by = 'Education')"
   ]
  },
  {
   "cell_type": "code",
   "execution_count": 16,
   "id": "ee10dd84",
   "metadata": {},
   "outputs": [
    {
     "data": {
      "text/plain": [
       "<Axes: >"
      ]
     },
     "execution_count": 16,
     "metadata": {},
     "output_type": "execute_result"
    },
    {
     "data": {
      "image/png": "[encoded data removed]",
      "text/plain": [
       "<Figure size 640x480 with 1 Axes>"
      ]
     },
     "metadata": {},
     "output_type": "display_data"
    }
   ],
   "source": [
    "df['LoanAmount'].hist(bins = 20)"
   ]
  },
  {
   "cell_type": "code",
   "execution_count": null,
   "id": "d97b083f",
   "metadata": {},
   "outputs": [],
   "source": [
    "# Normalizing Right Skew"
   ]
  },
  {
   "cell_type": "code",
   "execution_count": 17,
   "id": "f99c41a3",
   "metadata": {},
   "outputs": [
    {
     "data": {
      "text/plain": [
       "<Axes: >"
      ]
     },
     "execution_count": 17,
     "metadata": {},
     "output_type": "execute_result"
    },
    {
     "data": {
      "image/png": "[encoded data removed]",
      "text/plain": [
       "<Figure size 640x480 with 1 Axes>"
      ]
     },
     "metadata": {},
     "output_type": "display_data"
    }
   ],
   "source": [
    "df['LoanAmount_log'] = np.log(df['LoanAmount'])\n",
    "df['LoanAmount_log'].hist(bins = 20)"
   ]
  },
  {
   "cell_type": "code",
   "execution_count": null,
   "id": "bfb5070a",
   "metadata": {},
   "outputs": [],
   "source": [
    "# Combining All Income Columns Before Normalizing"
   ]
  },
  {
   "cell_type": "code",
   "execution_count": 18,
   "id": "794abfee",
   "metadata": {},
   "outputs": [
    {
     "data": {
      "text/plain": [
       "<Axes: >"
      ]
     },
     "execution_count": 18,
     "metadata": {},
     "output_type": "execute_result"
    },
    {
     "data": {
      "image/png": "[encoded data removed]",
      "text/plain": [
       "<Figure size 640x480 with 1 Axes>"
      ]
     },
     "metadata": {},
     "output_type": "display_data"
    }
   ],
   "source": [
    "df['TotalIncome'] = df['ApplicantIncome'] + df['CoapplicantIncome']\n",
    "df['TotalIncome_log'] = np.log(df['TotalIncome'])\n",
    "df['TotalIncome_log'].hist(bins = 20)"
   ]
  },
  {
   "cell_type": "markdown",
   "id": "fe93c28a",
   "metadata": {},
   "source": [
    "# Filling missing values; categorical - mode, numeric - mean with indexing"
   ]
  },
  {
   "cell_type": "code",
   "execution_count": 19,
   "id": "de5305ee",
   "metadata": {},
   "outputs": [
    {
     "data": {
      "text/plain": [
       "Index(['Loan_ID', 'Gender', 'Married', 'Dependents', 'Education',\n",
       "       'Self_Employed', 'ApplicantIncome', 'CoapplicantIncome', 'LoanAmount',\n",
       "       'Loan_Amount_Term', 'Credit_History', 'Property_Area', 'Loan_Status',\n",
       "       'LoanAmount_log', 'TotalIncome', 'TotalIncome_log'],\n",
       "      dtype='object')"
      ]
     },
     "execution_count": 19,
     "metadata": {},
     "output_type": "execute_result"
    }
   ],
   "source": [
    "df.columns"
   ]
  },
  {
   "cell_type": "code",
   "execution_count": 23,
   "id": "48eb6e07",
   "metadata": {},
   "outputs": [],
   "source": [
    "df['Gender'].fillna(df['Gender'].mode()[0], inplace = True)\n",
    "df['Married'].fillna(df['Married'].mode()[0], inplace = True)\n",
    "df['Dependents'].fillna(df['Dependents'].mode()[0], inplace = True)\n",
    "df['Education'].fillna(df['Education'].mode()[0], inplace = True)\n",
    "df['Self_Employed'].fillna(df['Self_Employed'].mode()[0], inplace = True)"
   ]
  },
  {
   "cell_type": "code",
   "execution_count": 25,
   "id": "6a1ddd09",
   "metadata": {},
   "outputs": [],
   "source": [
    "df.LoanAmount = df.LoanAmount.fillna(df.LoanAmount.mean())\n",
    "df.LoanAmount_log = df.LoanAmount_log.fillna(df.LoanAmount_log.mean())"
   ]
  },
  {
   "cell_type": "code",
   "execution_count": 29,
   "id": "a2da6738",
   "metadata": {},
   "outputs": [],
   "source": [
    "df['Loan_Amount_Term'].fillna(df['Loan_Amount_Term'].mode()[0], inplace = True)\n",
    "df['Credit_History'].fillna(df['Credit_History'].mode()[0], inplace = True)"
   ]
  },
  {
   "cell_type": "code",
   "execution_count": 30,
   "id": "237fd927",
   "metadata": {},
   "outputs": [
    {
     "data": {
      "text/plain": [
       "Loan_ID              0\n",
       "Gender               0\n",
       "Married              0\n",
       "Dependents           0\n",
       "Education            0\n",
       "Self_Employed        0\n",
       "ApplicantIncome      0\n",
       "CoapplicantIncome    0\n",
       "LoanAmount           0\n",
       "Loan_Amount_Term     0\n",
       "Credit_History       0\n",
       "Property_Area        0\n",
       "Loan_Status          0\n",
       "LoanAmount_log       0\n",
       "TotalIncome          0\n",
       "TotalIncome_log      0\n",
       "dtype: int64"
      ]
     },
     "execution_count": 30,
     "metadata": {},
     "output_type": "execute_result"
    }
   ],
   "source": [
    "df.isnull().sum()"
   ]
  },
  {
   "cell_type": "markdown",
   "id": "85419229",
   "metadata": {},
   "source": [
    "# Dividing Data into Dpenedent and Independent Variables"
   ]
  },
  {
   "cell_type": "code",
   "execution_count": 52,
   "id": "31b3adb4",
   "metadata": {},
   "outputs": [],
   "source": [
    "X = df.iloc[:,np.r_[1:5,9:11,13:15]].values\n",
    "y = df.iloc[:,12].values"
   ]
  },
  {
   "cell_type": "code",
   "execution_count": 53,
   "id": "a74a9326",
   "metadata": {},
   "outputs": [
    {
     "data": {
      "text/plain": [
       "array([['Male', 'No', '0', ..., 1.0, 4.857444178729352, 5849.0],\n",
       "       ['Male', 'Yes', '1', ..., 1.0, 4.852030263919617, 6091.0],\n",
       "       ['Male', 'Yes', '0', ..., 1.0, 4.189654742026425, 3000.0],\n",
       "       ...,\n",
       "       ['Male', 'Yes', '1', ..., 1.0, 5.53338948872752, 8312.0],\n",
       "       ['Male', 'Yes', '2', ..., 1.0, 5.231108616854587, 7583.0],\n",
       "       ['Female', 'No', '0', ..., 0.0, 4.890349128221754, 4583.0]],\n",
       "      dtype=object)"
      ]
     },
     "execution_count": 53,
     "metadata": {},
     "output_type": "execute_result"
    }
   ],
   "source": [
    "X"
   ]
  },
  {
   "cell_type": "code",
   "execution_count": 54,
   "id": "f4c8456a",
   "metadata": {},
   "outputs": [
    {
     "data": {
      "text/plain": [
       "array(['Y', 'N', 'Y', 'Y', 'Y', 'Y', 'Y', 'N', 'Y', 'N', 'Y', 'Y', 'Y',\n",
       "       'N', 'Y', 'Y', 'Y', 'N', 'N', 'Y', 'N', 'Y', 'N', 'N', 'N', 'Y',\n",
       "       'Y', 'Y', 'N', 'Y', 'N', 'N', 'N', 'Y', 'N', 'Y', 'N', 'Y', 'Y',\n",
       "       'Y', 'N', 'Y', 'Y', 'Y', 'Y', 'Y', 'Y', 'Y', 'N', 'Y', 'Y', 'Y',\n",
       "       'N', 'N', 'N', 'Y', 'Y', 'N', 'Y', 'Y', 'Y', 'Y', 'N', 'N', 'N',\n",
       "       'N', 'N', 'Y', 'Y', 'N', 'Y', 'Y', 'Y', 'N', 'Y', 'N', 'N', 'N',\n",
       "       'N', 'Y', 'Y', 'Y', 'N', 'N', 'Y', 'Y', 'Y', 'Y', 'Y', 'Y', 'Y',\n",
       "       'Y', 'Y', 'Y', 'Y', 'N', 'Y', 'Y', 'Y', 'Y', 'Y', 'Y', 'Y', 'Y',\n",
       "       'Y', 'Y', 'Y', 'N', 'N', 'Y', 'Y', 'Y', 'N', 'Y', 'Y', 'Y', 'Y',\n",
       "       'Y', 'N', 'Y', 'Y', 'Y', 'Y', 'Y', 'Y', 'Y', 'Y', 'Y', 'N', 'N',\n",
       "       'Y', 'Y', 'Y', 'Y', 'Y', 'N', 'N', 'Y', 'N', 'N', 'N', 'Y', 'Y',\n",
       "       'Y', 'Y', 'Y', 'Y', 'Y', 'N', 'Y', 'N', 'Y', 'N', 'N', 'Y', 'Y',\n",
       "       'Y', 'Y', 'Y', 'Y', 'Y', 'N', 'N', 'Y', 'Y', 'Y', 'N', 'Y', 'N',\n",
       "       'Y', 'Y', 'Y', 'N', 'Y', 'N', 'Y', 'Y', 'N', 'Y', 'N', 'N', 'N',\n",
       "       'Y', 'N', 'Y', 'Y', 'N', 'Y', 'Y', 'Y', 'Y', 'N', 'N', 'Y', 'Y',\n",
       "       'N', 'Y', 'Y', 'Y', 'N', 'Y', 'Y', 'N', 'Y', 'Y', 'Y', 'Y', 'Y',\n",
       "       'Y', 'N', 'N', 'N', 'Y', 'Y', 'Y', 'Y', 'N', 'Y', 'N', 'Y', 'N',\n",
       "       'Y', 'Y', 'Y', 'Y', 'N', 'N', 'Y', 'Y', 'Y', 'Y', 'Y', 'Y', 'Y',\n",
       "       'Y', 'Y', 'N', 'Y', 'Y', 'Y', 'Y', 'N', 'Y', 'Y', 'Y', 'N', 'Y',\n",
       "       'Y', 'Y', 'Y', 'N', 'N', 'Y', 'Y', 'N', 'Y', 'N', 'N', 'N', 'N',\n",
       "       'Y', 'Y', 'N', 'Y', 'Y', 'Y', 'Y', 'Y', 'N', 'Y', 'Y', 'Y', 'Y',\n",
       "       'Y', 'Y', 'Y', 'Y', 'Y', 'Y', 'Y', 'N', 'Y', 'Y', 'Y', 'N', 'Y',\n",
       "       'N', 'Y', 'Y', 'Y', 'Y', 'N', 'Y', 'N', 'Y', 'Y', 'Y', 'Y', 'N',\n",
       "       'N', 'N', 'Y', 'Y', 'Y', 'Y', 'N', 'Y', 'N', 'N', 'Y', 'Y', 'Y',\n",
       "       'Y', 'Y', 'N', 'Y', 'Y', 'Y', 'Y', 'N', 'Y', 'Y', 'Y', 'Y', 'Y',\n",
       "       'N', 'Y', 'Y', 'N', 'Y', 'Y', 'Y', 'Y', 'Y', 'Y', 'Y', 'Y', 'Y',\n",
       "       'N', 'Y', 'N', 'N', 'Y', 'Y', 'Y', 'Y', 'N', 'Y', 'Y', 'Y', 'Y',\n",
       "       'N', 'Y', 'N', 'Y', 'Y', 'Y', 'N', 'N', 'Y', 'N', 'Y', 'Y', 'Y',\n",
       "       'Y', 'N', 'N', 'N', 'Y', 'N', 'Y', 'Y', 'Y', 'N', 'Y', 'Y', 'Y',\n",
       "       'Y', 'N', 'Y', 'Y', 'Y', 'Y', 'Y', 'N', 'Y', 'Y', 'N', 'Y', 'Y',\n",
       "       'Y', 'Y', 'Y', 'Y', 'Y', 'Y', 'N', 'Y', 'Y', 'N', 'N', 'N', 'Y',\n",
       "       'Y', 'N', 'Y', 'Y', 'Y', 'N', 'N', 'N', 'Y', 'N', 'Y', 'N', 'Y',\n",
       "       'N', 'N', 'Y', 'Y', 'Y', 'N', 'Y', 'N', 'Y', 'Y', 'N', 'Y', 'Y',\n",
       "       'Y', 'Y', 'N', 'Y', 'Y', 'Y', 'Y', 'Y', 'Y', 'N', 'Y', 'Y', 'Y',\n",
       "       'Y', 'Y', 'Y', 'Y', 'Y', 'N', 'N', 'N', 'N', 'Y', 'N', 'Y', 'Y',\n",
       "       'Y', 'Y', 'N', 'Y', 'N', 'Y', 'Y', 'Y', 'Y', 'N', 'Y', 'N', 'Y',\n",
       "       'Y', 'N', 'Y', 'N', 'Y', 'Y', 'Y', 'Y', 'Y', 'N', 'Y', 'N', 'Y',\n",
       "       'Y', 'Y', 'Y', 'Y', 'Y', 'N', 'N', 'Y', 'N', 'Y', 'Y', 'Y', 'Y',\n",
       "       'N', 'Y', 'Y', 'Y', 'Y', 'N', 'Y', 'Y', 'Y', 'N', 'Y', 'Y', 'Y',\n",
       "       'N', 'Y', 'Y', 'N', 'Y', 'Y', 'N', 'N', 'Y', 'Y', 'N', 'N', 'N',\n",
       "       'Y', 'Y', 'Y', 'Y', 'N', 'Y', 'Y', 'Y', 'Y', 'Y', 'Y', 'Y', 'N',\n",
       "       'N', 'Y', 'Y', 'Y', 'Y', 'N', 'Y', 'Y', 'N', 'Y', 'Y', 'Y', 'Y',\n",
       "       'N', 'Y', 'N', 'Y', 'N', 'Y', 'Y', 'N', 'N', 'Y', 'Y', 'Y', 'Y',\n",
       "       'Y', 'Y', 'Y', 'Y', 'Y', 'N', 'Y', 'Y', 'N', 'N', 'N', 'Y', 'N',\n",
       "       'Y', 'N', 'N', 'Y', 'N', 'Y', 'Y', 'Y', 'Y', 'N', 'Y', 'N', 'N',\n",
       "       'N', 'Y', 'Y', 'Y', 'N', 'Y', 'N', 'Y', 'Y', 'Y', 'Y', 'N', 'N',\n",
       "       'Y', 'Y', 'N', 'Y', 'Y', 'Y', 'Y', 'N', 'Y', 'Y', 'Y', 'Y', 'Y',\n",
       "       'Y', 'Y', 'N'], dtype=object)"
      ]
     },
     "execution_count": 54,
     "metadata": {},
     "output_type": "execute_result"
    }
   ],
   "source": [
    "y"
   ]
  },
  {
   "cell_type": "markdown",
   "id": "7e6dbc91",
   "metadata": {},
   "source": [
    "# People Who Applied For A Loan By Gender"
   ]
  },
  {
   "cell_type": "code",
   "execution_count": 43,
   "id": "acc54524",
   "metadata": {},
   "outputs": [
    {
     "name": "stdout",
     "output_type": "stream",
     "text": [
      "Number of people who applied for a loan by gender:\n",
      "Male      502\n",
      "Female    112\n",
      "Name: Gender, dtype: int64\n"
     ]
    }
   ],
   "source": [
    "print('Number of people who applied for a loan by gender:')\n",
    "print(df['Gender'].value_counts())"
   ]
  },
  {
   "cell_type": "code",
   "execution_count": 44,
   "id": "6058fe69",
   "metadata": {},
   "outputs": [
    {
     "data": {
      "text/plain": [
       "<Axes: xlabel='Gender', ylabel='count'>"
      ]
     },
     "execution_count": 44,
     "metadata": {},
     "output_type": "execute_result"
    },
    {
     "data": {
      "image/png": "[encoded data removed]",
      "text/plain": [
       "<Figure size 640x480 with 1 Axes>"
      ]
     },
     "metadata": {},
     "output_type": "display_data"
    }
   ],
   "source": [
    "sns.countplot(x='Gender', data=df, palette = 'Set1')"
   ]
  },
  {
   "cell_type": "markdown",
   "id": "6708d282",
   "metadata": {},
   "source": [
    "# People Who Applied For A Loan By Martial Status"
   ]
  },
  {
   "cell_type": "code",
   "execution_count": 46,
   "id": "1897264a",
   "metadata": {},
   "outputs": [
    {
     "name": "stdout",
     "output_type": "stream",
     "text": [
      "Number of people who applied for a loan by marital status:\n",
      "Yes    401\n",
      "No     213\n",
      "Name: Married, dtype: int64\n"
     ]
    },
    {
     "data": {
      "text/plain": [
       "<Axes: xlabel='Married', ylabel='count'>"
      ]
     },
     "execution_count": 46,
     "metadata": {},
     "output_type": "execute_result"
    },
    {
     "data": {
      "image/png": "[encoded data removed]",
      "text/plain": [
       "<Figure size 640x480 with 1 Axes>"
      ]
     },
     "metadata": {},
     "output_type": "display_data"
    }
   ],
   "source": [
    "print('Number of people who applied for a loan by marital status:')\n",
    "print(df['Married'].value_counts())\n",
    "sns.countplot(x = 'Married', data = df, palette = 'Set1')"
   ]
  },
  {
   "cell_type": "markdown",
   "id": "0f0c6110",
   "metadata": {},
   "source": [
    "# People Who Applied For A Loan By Dependents"
   ]
  },
  {
   "cell_type": "code",
   "execution_count": 47,
   "id": "c26db608",
   "metadata": {},
   "outputs": [
    {
     "name": "stdout",
     "output_type": "stream",
     "text": [
      "Number of people who applied for a loan by dependence:\n",
      "0     360\n",
      "1     102\n",
      "2     101\n",
      "3+     51\n",
      "Name: Dependents, dtype: int64\n"
     ]
    },
    {
     "data": {
      "text/plain": [
       "<Axes: xlabel='Dependents', ylabel='count'>"
      ]
     },
     "execution_count": 47,
     "metadata": {},
     "output_type": "execute_result"
    },
    {
     "data": {
      "image/png": "[encoded data removed]",
      "text/plain": [
       "<Figure size 640x480 with 1 Axes>"
      ]
     },
     "metadata": {},
     "output_type": "display_data"
    }
   ],
   "source": [
    "print('Number of people who applied for a loan by dependence:')\n",
    "print(df['Dependents'].value_counts())\n",
    "sns.countplot(x = 'Dependents', data = df, palette = 'Set1')"
   ]
  },
  {
   "cell_type": "markdown",
   "id": "0aadc249",
   "metadata": {},
   "source": [
    "# People Who Applied For A Loan By Self-Employment Status"
   ]
  },
  {
   "cell_type": "code",
   "execution_count": 48,
   "id": "824b9542",
   "metadata": {},
   "outputs": [
    {
     "name": "stdout",
     "output_type": "stream",
     "text": [
      "Number of people who applied for a loan by employment status:\n",
      "No     532\n",
      "Yes     82\n",
      "Name: Self_Employed, dtype: int64\n"
     ]
    },
    {
     "data": {
      "text/plain": [
       "<Axes: xlabel='Self_Employed', ylabel='count'>"
      ]
     },
     "execution_count": 48,
     "metadata": {},
     "output_type": "execute_result"
    },
    {
     "data": {
      "image/png": "[encoded data removed]",
      "text/plain": [
       "<Figure size 640x480 with 1 Axes>"
      ]
     },
     "metadata": {},
     "output_type": "display_data"
    }
   ],
   "source": [
    "print('Number of people who applied for a loan by self-employment status:')\n",
    "print(df['Self_Employed'].value_counts())\n",
    "sns.countplot(x = 'Self_Employed', data = df, palette = 'Set1')"
   ]
  },
  {
   "cell_type": "markdown",
   "id": "688d488f",
   "metadata": {},
   "source": [
    "# People Who Applied For A Loan By Loan Amount"
   ]
  },
  {
   "cell_type": "code",
   "execution_count": 49,
   "id": "90f84156",
   "metadata": {},
   "outputs": [
    {
     "name": "stdout",
     "output_type": "stream",
     "text": [
      "Number of people who applied for a loan by loan amount:\n",
      "146.412162    22\n",
      "120.000000    20\n",
      "110.000000    17\n",
      "100.000000    15\n",
      "160.000000    12\n",
      "              ..\n",
      "240.000000     1\n",
      "214.000000     1\n",
      "59.000000      1\n",
      "166.000000     1\n",
      "253.000000     1\n",
      "Name: LoanAmount, Length: 204, dtype: int64\n"
     ]
    },
    {
     "data": {
      "text/plain": [
       "<Axes: xlabel='LoanAmount', ylabel='count'>"
      ]
     },
     "execution_count": 49,
     "metadata": {},
     "output_type": "execute_result"
    },
    {
     "data": {
      "image/png": "[encoded data removed]",
      "text/plain": [
       "<Figure size 640x480 with 1 Axes>"
      ]
     },
     "metadata": {},
     "output_type": "display_data"
    }
   ],
   "source": [
    "print('Number of people who applied for a loan by loan amount:')\n",
    "print(df['LoanAmount'].value_counts())\n",
    "sns.countplot(x = 'LoanAmount', data = df, palette = 'Set1')"
   ]
  },
  {
   "cell_type": "code",
   "execution_count": null,
   "id": "891f5a4a",
   "metadata": {},
   "outputs": [],
   "source": [
    "# People Who Applied For A Loan By Credit History"
   ]
  },
  {
   "cell_type": "code",
   "execution_count": 50,
   "id": "b8a94e57",
   "metadata": {},
   "outputs": [
    {
     "name": "stdout",
     "output_type": "stream",
     "text": [
      "Number of people who applied for a loan by credit history:\n",
      "1.0    525\n",
      "0.0     89\n",
      "Name: Credit_History, dtype: int64\n"
     ]
    },
    {
     "data": {
      "text/plain": [
       "<Axes: xlabel='Credit_History', ylabel='count'>"
      ]
     },
     "execution_count": 50,
     "metadata": {},
     "output_type": "execute_result"
    },
    {
     "data": {
      "image/png": "[encoded data removed]",
      "text/plain": [
       "<Figure size 640x480 with 1 Axes>"
      ]
     },
     "metadata": {},
     "output_type": "display_data"
    }
   ],
   "source": [
    "print('Number of people who applied for a loan by credit history:')\n",
    "print(df['Credit_History'].value_counts())\n",
    "sns.countplot(x = 'Credit_History', data = df, palette = 'Set1')"
   ]
  },
  {
   "cell_type": "markdown",
   "id": "d3a1e547",
   "metadata": {},
   "source": [
    "# Importing from sklearn x for dependent, y for independent and splitting data"
   ]
  },
  {
   "cell_type": "code",
   "execution_count": 87,
   "id": "1a4885c6",
   "metadata": {},
   "outputs": [],
   "source": [
    "from sklearn.model_selection import train_test_split\n",
    "X_train, X_test, y_train, y_test = train_test_split(X, y, test_size = 0.2)"
   ]
  },
  {
   "cell_type": "code",
   "execution_count": 88,
   "id": "76a95c55",
   "metadata": {},
   "outputs": [
    {
     "name": "stdout",
     "output_type": "stream",
     "text": [
      "[['Female' 'No' '1' ... 1.0 4.882801922586371 5191.0]\n",
      " ['Male' 'Yes' '3+' ... 1.0 4.867534450455582 13746.0]\n",
      " ['Female' 'No' '2' ... 1.0 4.927253685157205 3427.0]\n",
      " ...\n",
      " ['Male' 'Yes' '2' ... 1.0 4.574710978503383 3875.0]\n",
      " ['Male' 'No' '0' ... 1.0 4.836281906951478 4690.0]\n",
      " ['Male' 'No' '0' ... 1.0 4.857444178729352 5849.0]]\n"
     ]
    }
   ],
   "source": [
    "print(X_train)"
   ]
  },
  {
   "cell_type": "markdown",
   "id": "cb9111da",
   "metadata": {},
   "source": [
    "# Converting Categorical Variables into Numrical Form With LabelEncoder"
   ]
  },
  {
   "cell_type": "code",
   "execution_count": 89,
   "id": "a4c75ce8",
   "metadata": {},
   "outputs": [],
   "source": [
    "from sklearn.preprocessing import LabelEncoder\n",
    "labelencoder_X = LabelEncoder()"
   ]
  },
  {
   "cell_type": "markdown",
   "id": "d089cd70",
   "metadata": {},
   "source": [
    "# Using a For Loop To Apply Conversion In Train Data"
   ]
  },
  {
   "cell_type": "code",
   "execution_count": 90,
   "id": "e553ed5b",
   "metadata": {},
   "outputs": [],
   "source": [
    "for i in range(0, 5):\n",
    "    X_train[:,i] = labelencoder_X.fit_transform(X_train[:,i])"
   ]
  },
  {
   "cell_type": "code",
   "execution_count": 91,
   "id": "7a8a848c",
   "metadata": {},
   "outputs": [],
   "source": [
    "X_train[:,7] = labelencoder_X.fit_transform(X_train[:,7])"
   ]
  },
  {
   "cell_type": "code",
   "execution_count": 92,
   "id": "b0cf175f",
   "metadata": {},
   "outputs": [
    {
     "data": {
      "text/plain": [
       "array([[0, 0, 1, ..., 1.0, 4.882801922586371, 203],\n",
       "       [1, 1, 3, ..., 1.0, 4.867534450455582, 412],\n",
       "       [0, 0, 2, ..., 1.0, 4.927253685157205, 51],\n",
       "       ...,\n",
       "       [1, 1, 2, ..., 1.0, 4.574710978503383, 87],\n",
       "       [1, 0, 0, ..., 1.0, 4.836281906951478, 152],\n",
       "       [1, 0, 0, ..., 1.0, 4.857444178729352, 256]], dtype=object)"
      ]
     },
     "execution_count": 92,
     "metadata": {},
     "output_type": "execute_result"
    }
   ],
   "source": [
    "X_train"
   ]
  },
  {
   "cell_type": "markdown",
   "id": "7db69105",
   "metadata": {},
   "source": [
    "# Creating A New Instance Of The Label Encoder For Yes and No Values In y"
   ]
  },
  {
   "cell_type": "code",
   "execution_count": 93,
   "id": "745e4948",
   "metadata": {},
   "outputs": [],
   "source": [
    "labelencoder_y = LabelEncoder()\n",
    "y_train = labelencoder_y.fit_transform(y_train)"
   ]
  },
  {
   "cell_type": "code",
   "execution_count": 94,
   "id": "5f43a8eb",
   "metadata": {},
   "outputs": [
    {
     "data": {
      "text/plain": [
       "array([1, 1, 0, 1, 1, 1, 1, 1, 1, 1, 1, 1, 1, 1, 0, 1, 0, 1, 0, 1, 1, 1,\n",
       "       1, 1, 0, 1, 1, 1, 1, 1, 1, 1, 0, 1, 1, 0, 0, 1, 1, 1, 1, 1, 1, 0,\n",
       "       1, 1, 1, 1, 0, 1, 1, 1, 1, 1, 1, 1, 1, 0, 0, 1, 1, 1, 0, 0, 1, 0,\n",
       "       1, 1, 0, 1, 1, 1, 1, 1, 1, 1, 0, 1, 1, 1, 0, 1, 0, 1, 1, 1, 1, 1,\n",
       "       1, 0, 1, 0, 1, 1, 0, 1, 1, 1, 0, 1, 1, 1, 1, 1, 1, 0, 1, 0, 1, 1,\n",
       "       0, 1, 1, 0, 1, 0, 0, 1, 0, 0, 1, 0, 0, 1, 0, 1, 0, 1, 0, 1, 1, 1,\n",
       "       1, 0, 1, 1, 1, 1, 0, 1, 0, 1, 1, 1, 1, 1, 1, 0, 1, 0, 1, 0, 1, 0,\n",
       "       1, 1, 1, 1, 0, 1, 0, 1, 1, 1, 1, 1, 1, 1, 1, 1, 1, 0, 1, 0, 1, 1,\n",
       "       1, 1, 0, 1, 1, 1, 0, 1, 0, 1, 1, 1, 1, 1, 1, 0, 0, 0, 1, 1, 1, 0,\n",
       "       1, 1, 1, 1, 1, 1, 0, 1, 0, 1, 1, 1, 1, 1, 1, 1, 1, 1, 1, 1, 1, 1,\n",
       "       1, 0, 1, 1, 1, 1, 1, 0, 1, 0, 1, 1, 1, 1, 1, 0, 0, 1, 1, 0, 0, 1,\n",
       "       0, 1, 1, 1, 0, 1, 1, 0, 1, 1, 1, 1, 1, 1, 1, 1, 1, 1, 1, 1, 1, 1,\n",
       "       0, 0, 1, 1, 0, 0, 0, 1, 0, 0, 0, 0, 0, 0, 1, 1, 0, 1, 1, 1, 1, 1,\n",
       "       1, 0, 1, 0, 1, 1, 1, 1, 1, 1, 0, 0, 0, 0, 0, 1, 1, 1, 0, 1, 0, 1,\n",
       "       1, 1, 0, 1, 1, 1, 1, 0, 1, 0, 1, 1, 1, 1, 1, 1, 0, 1, 0, 1, 1, 0,\n",
       "       0, 1, 1, 1, 0, 1, 0, 0, 1, 1, 0, 1, 1, 1, 1, 1, 0, 0, 1, 1, 1, 1,\n",
       "       0, 0, 1, 0, 1, 1, 1, 1, 1, 1, 1, 1, 1, 1, 1, 0, 0, 1, 0, 1, 1, 1,\n",
       "       0, 0, 1, 0, 0, 1, 1, 0, 0, 0, 0, 0, 1, 1, 1, 1, 1, 0, 0, 0, 1, 1,\n",
       "       0, 1, 1, 0, 1, 1, 1, 1, 1, 1, 0, 0, 1, 0, 0, 1, 0, 1, 1, 0, 0, 0,\n",
       "       1, 1, 1, 1, 0, 1, 1, 0, 1, 1, 1, 1, 1, 0, 1, 1, 1, 0, 1, 1, 1, 0,\n",
       "       1, 0, 1, 0, 1, 0, 0, 1, 0, 0, 1, 0, 1, 1, 0, 0, 0, 1, 1, 0, 1, 0,\n",
       "       0, 0, 1, 1, 0, 0, 0, 1, 1, 1, 1, 1, 1, 0, 1, 1, 1, 0, 0, 1, 1, 1,\n",
       "       0, 0, 1, 1, 1, 1, 1])"
      ]
     },
     "execution_count": 94,
     "metadata": {},
     "output_type": "execute_result"
    }
   ],
   "source": [
    "y_train"
   ]
  },
  {
   "cell_type": "markdown",
   "id": "20f1ba09",
   "metadata": {},
   "source": [
    "# Using For Loop To Apply Conversion In test Data"
   ]
  },
  {
   "cell_type": "code",
   "execution_count": 95,
   "id": "34bc5469",
   "metadata": {},
   "outputs": [],
   "source": [
    "for i in range(0, 5):\n",
    "    X_test[:,i] = labelencoder_X.fit_transform(X_test[:,i])"
   ]
  },
  {
   "cell_type": "code",
   "execution_count": 96,
   "id": "ac6192c2",
   "metadata": {},
   "outputs": [],
   "source": [
    "X_test[:,7] = labelencoder_X.fit_transform(X_test[:,7])"
   ]
  },
  {
   "cell_type": "markdown",
   "id": "f90af844",
   "metadata": {},
   "source": [
    "# Converting Test Data In y"
   ]
  },
  {
   "cell_type": "code",
   "execution_count": 97,
   "id": "07b923e1",
   "metadata": {},
   "outputs": [],
   "source": [
    "labelencoder_y = LabelEncoder()\n",
    "y_test = labelencoder_y.fit_transform(y_test)"
   ]
  },
  {
   "cell_type": "code",
   "execution_count": 98,
   "id": "3903a3f0",
   "metadata": {},
   "outputs": [
    {
     "data": {
      "text/plain": [
       "array([[0, 0, 0, 0, 7, 0.0, 4.330733340286331, 23],\n",
       "       [0, 0, 0, 1, 7, 1.0, 5.41610040220442, 116],\n",
       "       [1, 1, 0, 1, 8, 0.0, 4.605170185988092, 49],\n",
       "       [1, 1, 2, 1, 4, 1.0, 4.727387818712341, 26],\n",
       "       [1, 1, 1, 0, 7, 1.0, 3.258096538021482, 78],\n",
       "       [1, 1, 1, 0, 7, 1.0, 5.799092654460526, 104],\n",
       "       [1, 1, 0, 1, 7, 1.0, 4.927253685157205, 52],\n",
       "       [1, 1, 2, 1, 7, 1.0, 4.68213122712422, 37],\n",
       "       [1, 1, 0, 0, 6, 1.0, 4.553876891600541, 72],\n",
       "       [0, 0, 0, 0, 7, 0.0, 4.2626798770413155, 18],\n",
       "       [1, 1, 3, 0, 7, 0.0, 5.886104031450156, 120],\n",
       "       [1, 1, 0, 0, 7, 1.0, 5.1647859739235145, 92],\n",
       "       [0, 0, 1, 0, 7, 1.0, 4.857444178729352, 90],\n",
       "       [0, 1, 2, 0, 8, 1.0, 4.727387818712341, 28],\n",
       "       [1, 1, 0, 0, 7, 1.0, 4.857444178729352, 117],\n",
       "       [0, 0, 0, 0, 7, 1.0, 5.556828061699537, 105],\n",
       "       [1, 1, 2, 0, 7, 1.0, 5.4638318050256105, 99],\n",
       "       [1, 1, 2, 1, 7, 1.0, 4.700480365792417, 59],\n",
       "       [0, 0, 0, 0, 4, 1.0, 4.7535901911063645, 34],\n",
       "       [0, 1, 0, 0, 7, 1.0, 4.867534450455582, 12],\n",
       "       [0, 0, 1, 0, 7, 1.0, 4.394449154672439, 51],\n",
       "       [1, 0, 0, 0, 7, 1.0, 5.231108616854587, 111],\n",
       "       [0, 0, 0, 0, 7, 1.0, 4.700480365792417, 41],\n",
       "       [1, 1, 2, 1, 7, 0.0, 4.718498871295094, 60],\n",
       "       [1, 1, 2, 0, 7, 1.0, 4.787491742782046, 30],\n",
       "       [0, 0, 0, 0, 7, 0.0, 4.59511985013459, 0],\n",
       "       [1, 0, 0, 0, 6, 1.0, 4.394449154672439, 22],\n",
       "       [1, 1, 2, 0, 6, 1.0, 5.438079308923196, 97],\n",
       "       [1, 1, 0, 0, 7, 1.0, 4.189654742026425, 16],\n",
       "       [1, 1, 1, 0, 7, 1.0, 5.521460917862246, 95],\n",
       "       [0, 0, 0, 0, 7, 1.0, 4.02535169073515, 7],\n",
       "       [1, 1, 1, 0, 7, 1.0, 4.442651256490317, 25],\n",
       "       [1, 1, 3, 0, 7, 0.0, 6.20455776256869, 114],\n",
       "       [1, 0, 0, 1, 7, 1.0, 4.890349128221754, 76],\n",
       "       [1, 1, 2, 0, 7, 1.0, 5.3230099791384085, 79],\n",
       "       [1, 0, 0, 0, 7, 1.0, 4.430816798843313, 86],\n",
       "       [1, 1, 2, 0, 7, 1.0, 5.493061443340548, 94],\n",
       "       [1, 1, 2, 0, 7, 1.0, 4.718498871295094, 102],\n",
       "       [1, 1, 0, 0, 7, 1.0, 4.700480365792417, 32],\n",
       "       [1, 0, 0, 0, 7, 1.0, 4.976733742420574, 44],\n",
       "       [1, 0, 0, 0, 7, 0.0, 4.477336814478207, 14],\n",
       "       [1, 0, 0, 0, 7, 1.0, 4.852030263919617, 88],\n",
       "       [1, 1, 0, 0, 7, 1.0, 6.173786103901937, 118],\n",
       "       [1, 1, 2, 1, 4, 0.0, 3.8066624897703196, 10],\n",
       "       [1, 0, 1, 1, 5, 1.0, 4.605170185988092, 24],\n",
       "       [1, 0, 0, 0, 7, 1.0, 4.584967478670572, 13],\n",
       "       [0, 1, 2, 0, 7, 1.0, 4.248495242049359, 113],\n",
       "       [1, 0, 0, 1, 8, 0.0, 4.624972813284271, 33],\n",
       "       [1, 1, 1, 0, 7, 1.0, 4.857444178729352, 4],\n",
       "       [0, 0, 1, 0, 7, 1.0, 5.075173815233827, 8],\n",
       "       [1, 1, 2, 0, 7, 0.0, 4.663439094112067, 9],\n",
       "       [1, 1, 2, 0, 2, 1.0, 4.68213122712422, 27],\n",
       "       [1, 1, 0, 0, 0, 1.0, 4.709530201312334, 91],\n",
       "       [1, 1, 3, 0, 7, 1.0, 4.700480365792417, 64],\n",
       "       [1, 0, 0, 0, 7, 1.0, 5.231108616854587, 100],\n",
       "       [1, 0, 0, 0, 7, 1.0, 4.07753744390572, 5],\n",
       "       [1, 1, 0, 0, 7, 1.0, 4.700480365792417, 83],\n",
       "       [0, 0, 1, 0, 7, 1.0, 5.0106352940962555, 98],\n",
       "       [0, 0, 0, 1, 7, 1.0, 4.189654742026425, 1],\n",
       "       [1, 1, 3, 0, 7, 1.0, 5.66988092298052, 110],\n",
       "       [0, 1, 0, 0, 7, 1.0, 5.0369526024136295, 62],\n",
       "       [0, 1, 0, 1, 7, 0.0, 5.181783550292085, 61],\n",
       "       [1, 0, 0, 0, 7, 1.0, 4.499809670330265, 119],\n",
       "       [1, 1, 2, 0, 7, 1.0, 4.564348191467836, 36],\n",
       "       [1, 1, 2, 0, 7, 0.0, 5.552959584921617, 101],\n",
       "       [0, 1, 0, 0, 5, 1.0, 4.857444178729352, 103],\n",
       "       [1, 0, 0, 1, 7, 1.0, 4.787491742782046, 68],\n",
       "       [1, 1, 0, 0, 7, 1.0, 4.787491742782046, 77],\n",
       "       [1, 1, 3, 0, 7, 1.0, 4.605170185988092, 43],\n",
       "       [1, 1, 1, 0, 7, 1.0, 5.298317366548036, 85],\n",
       "       [1, 1, 2, 1, 7, 1.0, 5.231108616854587, 89],\n",
       "       [1, 0, 0, 1, 1, 1.0, 4.382026634673881, 19],\n",
       "       [0, 0, 0, 0, 8, 1.0, 4.727387818712341, 45],\n",
       "       [0, 1, 0, 0, 7, 1.0, 3.58351893845611, 17],\n",
       "       [1, 1, 0, 0, 7, 0.0, 4.0943445622221, 2],\n",
       "       [0, 1, 1, 0, 7, 0.0, 5.655991810819852, 108],\n",
       "       [0, 0, 0, 0, 7, 1.0, 4.0943445622221, 15],\n",
       "       [0, 1, 0, 0, 7, 0.0, 4.787491742782046, 73],\n",
       "       [1, 0, 3, 1, 7, 1.0, 4.997212273764115, 82],\n",
       "       [1, 1, 0, 1, 7, 1.0, 4.189654742026425, 21],\n",
       "       [1, 1, 2, 0, 7, 1.0, 5.075173815233827, 81],\n",
       "       [1, 1, 0, 0, 7, 1.0, 4.875197323201151, 69],\n",
       "       [0, 1, 0, 1, 7, 1.0, 4.624972813284271, 29],\n",
       "       [1, 0, 0, 1, 3, 1.0, 3.2188758248682006, 27],\n",
       "       [1, 1, 1, 0, 7, 1.0, 5.087596335232384, 63],\n",
       "       [1, 1, 0, 0, 7, 1.0, 4.912654885736052, 107],\n",
       "       [1, 1, 2, 0, 6, 1.0, 5.940171252720432, 115],\n",
       "       [1, 1, 2, 1, 7, 1.0, 4.700480365792417, 48],\n",
       "       [0, 0, 0, 0, 7, 1.0, 4.532599493153256, 6],\n",
       "       [0, 0, 0, 0, 7, 1.0, 4.709530201312334, 35],\n",
       "       [1, 1, 0, 0, 7, 1.0, 5.579729825986222, 96],\n",
       "       [1, 1, 2, 0, 7, 1.0, 5.043425116919247, 58],\n",
       "       [1, 1, 0, 0, 7, 1.0, 4.007333185232471, 55],\n",
       "       [1, 1, 3, 0, 7, 1.0, 4.605170185988092, 50],\n",
       "       [1, 0, 0, 0, 7, 1.0, 4.605170185988092, 31],\n",
       "       [0, 0, 0, 0, 7, 1.0, 4.430816798843313, 11],\n",
       "       [1, 1, 3, 1, 7, 1.0, 4.867534450455582, 65],\n",
       "       [1, 0, 2, 0, 7, 0.0, 5.111987788356544, 56],\n",
       "       [1, 1, 2, 0, 7, 1.0, 5.2574953720277815, 67],\n",
       "       [1, 1, 0, 0, 7, 1.0, 4.857444178729352, 112],\n",
       "       [1, 1, 0, 0, 7, 0.0, 5.10594547390058, 80],\n",
       "       [1, 1, 0, 1, 7, 0.0, 4.812184355372417, 54],\n",
       "       [1, 0, 0, 0, 7, 0.0, 5.342334251964811, 106],\n",
       "       [1, 0, 0, 0, 7, 1.0, 4.941642422609304, 78],\n",
       "       [1, 1, 1, 0, 4, 1.0, 5.204006687076795, 109],\n",
       "       [1, 1, 3, 0, 4, 1.0, 4.852030263919617, 93],\n",
       "       [1, 0, 0, 0, 7, 1.0, 4.30406509320417, 38],\n",
       "       [1, 0, 0, 0, 7, 1.0, 4.804021044733257, 40],\n",
       "       [1, 1, 2, 1, 7, 1.0, 4.727387818712341, 3],\n",
       "       [0, 1, 0, 1, 7, 1.0, 4.927253685157205, 87],\n",
       "       [1, 1, 0, 0, 4, 0.0, 4.499809670330265, 57],\n",
       "       [1, 0, 0, 1, 7, 1.0, 4.882801922586371, 39],\n",
       "       [0, 0, 1, 0, 7, 1.0, 4.499809670330265, 46],\n",
       "       [1, 0, 0, 0, 7, 1.0, 4.48863636973214, 75],\n",
       "       [1, 1, 2, 0, 7, 1.0, 4.477336814478207, 84],\n",
       "       [1, 1, 0, 1, 7, 0.0, 5.198497031265826, 53],\n",
       "       [0, 0, 0, 0, 7, 1.0, 4.718498871295094, 42],\n",
       "       [1, 1, 0, 1, 7, 1.0, 5.075173815233827, 71],\n",
       "       [1, 1, 0, 0, 7, 1.0, 4.74493212836325, 74],\n",
       "       [1, 1, 0, 0, 7, 1.0, 4.787491742782046, 66],\n",
       "       [1, 1, 0, 0, 7, 1.0, 5.123963979403259, 70],\n",
       "       [1, 1, 0, 0, 4, 1.0, 4.290459441148391, 47],\n",
       "       [0, 0, 0, 0, 7, 1.0, 4.477336814478207, 20]], dtype=object)"
      ]
     },
     "execution_count": 98,
     "metadata": {},
     "output_type": "execute_result"
    }
   ],
   "source": [
    "X_test"
   ]
  },
  {
   "cell_type": "code",
   "execution_count": 99,
   "id": "07616861",
   "metadata": {},
   "outputs": [
    {
     "data": {
      "text/plain": [
       "array([0, 1, 0, 1, 1, 1, 0, 1, 1, 0, 0, 0, 1, 1, 0, 1, 1, 1, 1, 1, 0, 1,\n",
       "       1, 0, 1, 0, 1, 1, 1, 1, 1, 1, 0, 0, 1, 1, 1, 1, 1, 1, 0, 1, 1, 0,\n",
       "       1, 1, 1, 0, 1, 0, 0, 1, 1, 1, 1, 1, 0, 1, 1, 0, 1, 0, 0, 1, 0, 1,\n",
       "       1, 1, 1, 1, 0, 0, 1, 1, 0, 0, 1, 0, 1, 0, 1, 1, 1, 1, 1, 1, 1, 1,\n",
       "       1, 1, 0, 1, 0, 1, 1, 1, 1, 1, 1, 1, 0, 0, 0, 1, 1, 1, 1, 1, 0, 1,\n",
       "       1, 1, 1, 1, 1, 0, 0, 0, 1, 1, 1, 1, 1])"
      ]
     },
     "execution_count": 99,
     "metadata": {},
     "output_type": "execute_result"
    }
   ],
   "source": [
    "y_test"
   ]
  },
  {
   "cell_type": "markdown",
   "id": "386ef93f",
   "metadata": {},
   "source": [
    "# Scaling Data To Account For Different Ranges Using StandardScaler"
   ]
  },
  {
   "cell_type": "code",
   "execution_count": 100,
   "id": "076f6dc5",
   "metadata": {},
   "outputs": [],
   "source": [
    "from sklearn.preprocessing import StandardScaler\n",
    "sc = StandardScaler()\n",
    "X_train = sc.fit_transform(X_train)\n",
    "X_test = sc.fit_transform(X_test)"
   ]
  },
  {
   "cell_type": "markdown",
   "id": "1e511ded",
   "metadata": {},
   "source": [
    "# Creating An Instance Of Decision Tree and Testing Accuracy"
   ]
  },
  {
   "cell_type": "code",
   "execution_count": 115,
   "id": "503fc107",
   "metadata": {},
   "outputs": [
    {
     "data": {
      "text/html": [
       "<style>#sk-container-id-9 {color: black;}#sk-container-id-9 pre{padding: 0;}#sk-container-id-9 div.sk-toggleable {background-color: white;}#sk-container-id-9 label.sk-toggleable__label {cursor: pointer;display: block;width: 100%;margin-bottom: 0;padding: 0.3em;box-sizing: border-box;text-align: center;}#sk-container-id-9 label.sk-toggleable__label-arrow:before {content: \"▸\";float: left;margin-right: 0.25em;color: #696969;}#sk-container-id-9 label.sk-toggleable__label-arrow:hover:before {color: black;}#sk-container-id-9 div.sk-estimator:hover label.sk-toggleable__label-arrow:before {color: black;}#sk-container-id-9 div.sk-toggleable__content {max-height: 0;max-width: 0;overflow: hidden;text-align: left;background-color: #f0f8ff;}#sk-container-id-9 div.sk-toggleable__content pre {margin: 0.2em;color: black;border-radius: 0.25em;background-color: #f0f8ff;}#sk-container-id-9 input.sk-toggleable__control:checked~div.sk-toggleable__content {max-height: 200px;max-width: 100%;overflow: auto;}#sk-container-id-9 input.sk-toggleable__control:checked~label.sk-toggleable__label-arrow:before {content: \"▾\";}#sk-container-id-9 div.sk-estimator input.sk-toggleable__control:checked~label.sk-toggleable__label {background-color: #d4ebff;}#sk-container-id-9 div.sk-label input.sk-toggleable__control:checked~label.sk-toggleable__label {background-color: #d4ebff;}#sk-container-id-9 input.sk-hidden--visually {border: 0;clip: rect(1px 1px 1px 1px);clip: rect(1px, 1px, 1px, 1px);height: 1px;margin: -1px;overflow: hidden;padding: 0;position: absolute;width: 1px;}#sk-container-id-9 div.sk-estimator {font-family: monospace;background-color: #f0f8ff;border: 1px dotted black;border-radius: 0.25em;box-sizing: border-box;margin-bottom: 0.5em;}#sk-container-id-9 div.sk-estimator:hover {background-color: #d4ebff;}#sk-container-id-9 div.sk-parallel-item::after {content: \"\";width: 100%;border-bottom: 1px solid gray;flex-grow: 1;}#sk-container-id-9 div.sk-label:hover label.sk-toggleable__label {background-color: #d4ebff;}#sk-container-id-9 div.sk-serial::before {content: \"\";position: absolute;border-left: 1px solid gray;box-sizing: border-box;top: 0;bottom: 0;left: 50%;z-index: 0;}#sk-container-id-9 div.sk-serial {display: flex;flex-direction: column;align-items: center;background-color: white;padding-right: 0.2em;padding-left: 0.2em;position: relative;}#sk-container-id-9 div.sk-item {position: relative;z-index: 1;}#sk-container-id-9 div.sk-parallel {display: flex;align-items: stretch;justify-content: center;background-color: white;position: relative;}#sk-container-id-9 div.sk-item::before, #sk-container-id-9 div.sk-parallel-item::before {content: \"\";position: absolute;border-left: 1px solid gray;box-sizing: border-box;top: 0;bottom: 0;left: 50%;z-index: -1;}#sk-container-id-9 div.sk-parallel-item {display: flex;flex-direction: column;z-index: 1;position: relative;background-color: white;}#sk-container-id-9 div.sk-parallel-item:first-child::after {align-self: flex-end;width: 50%;}#sk-container-id-9 div.sk-parallel-item:last-child::after {align-self: flex-start;width: 50%;}#sk-container-id-9 div.sk-parallel-item:only-child::after {width: 0;}#sk-container-id-9 div.sk-dashed-wrapped {border: 1px dashed gray;margin: 0 0.4em 0.5em 0.4em;box-sizing: border-box;padding-bottom: 0.4em;background-color: white;}#sk-container-id-9 div.sk-label label {font-family: monospace;font-weight: bold;display: inline-block;line-height: 1.2em;}#sk-container-id-9 div.sk-label-container {text-align: center;}#sk-container-id-9 div.sk-container {/* jupyter's `normalize.less` sets `[hidden] { display: none; }` but bootstrap.min.css set `[hidden] { display: none !important; }` so we also need the `!important` here to be able to override the default hidden behavior on the sphinx rendered scikit-learn.org. See: https://github.com/scikit-learn/scikit-learn/issues/21755 */display: inline-block !important;position: relative;}#sk-container-id-9 div.sk-text-repr-fallback {display: none;}</style><div id=\"sk-container-id-9\" class=\"sk-top-container\"><div class=\"sk-text-repr-fallback\"><pre>DecisionTreeClassifier(criterion=&#x27;entropy&#x27;, random_state=0)</pre><b>In a Jupyter environment, please rerun this cell to show the HTML representation or trust the notebook. <br />On GitHub, the HTML representation is unable to render, please try loading this page with nbviewer.org.</b></div><div class=\"sk-container\" hidden><div class=\"sk-item\"><div class=\"sk-estimator sk-toggleable\"><input class=\"sk-toggleable__control sk-hidden--visually\" id=\"sk-estimator-id-9\" type=\"checkbox\" checked><label for=\"sk-estimator-id-9\" class=\"sk-toggleable__label sk-toggleable__label-arrow\">DecisionTreeClassifier</label><div class=\"sk-toggleable__content\"><pre>DecisionTreeClassifier(criterion=&#x27;entropy&#x27;, random_state=0)</pre></div></div></div></div></div>"
      ],
      "text/plain": [
       "DecisionTreeClassifier(criterion='entropy', random_state=0)"
      ]
     },
     "execution_count": 115,
     "metadata": {},
     "output_type": "execute_result"
    }
   ],
   "source": [
    "from sklearn.tree import DecisionTreeClassifier\n",
    "DTClassifier = DecisionTreeClassifier(criterion = 'entropy', random_state =0)\n",
    "DTClassifier.fit(X_train, y_train)"
   ]
  },
  {
   "cell_type": "markdown",
   "id": "6bb6099a",
   "metadata": {},
   "source": [
    "# Predicting Using This Algorithm"
   ]
  },
  {
   "cell_type": "markdown",
   "id": "deca10a8",
   "metadata": {},
   "source": [
    "# Creating A New Variable"
   ]
  },
  {
   "cell_type": "code",
   "execution_count": 116,
   "id": "27a11797",
   "metadata": {},
   "outputs": [
    {
     "data": {
      "text/plain": [
       "array([0, 0, 0, 1, 1, 1, 1, 1, 1, 0, 1, 1, 1, 1, 1, 1, 1, 1, 1, 0, 1, 0,\n",
       "       1, 0, 0, 0, 1, 0, 1, 0, 1, 1, 0, 1, 1, 0, 1, 1, 1, 1, 0, 1, 0, 0,\n",
       "       1, 0, 1, 0, 0, 1, 0, 1, 1, 1, 0, 0, 1, 1, 1, 1, 1, 0, 1, 1, 0, 0,\n",
       "       1, 1, 1, 1, 0, 1, 0, 1, 0, 1, 0, 0, 0, 1, 1, 1, 1, 1, 0, 1, 1, 1,\n",
       "       1, 1, 0, 1, 1, 0, 0, 1, 1, 0, 0, 1, 1, 0, 0, 1, 1, 1, 0, 1, 1, 1,\n",
       "       0, 1, 1, 1, 0, 0, 1, 1, 1, 1, 0, 1, 1])"
      ]
     },
     "execution_count": 116,
     "metadata": {},
     "output_type": "execute_result"
    }
   ],
   "source": [
    "y_pred = DTClassifier.predict(X_test)\n",
    "y_pred"
   ]
  },
  {
   "cell_type": "markdown",
   "id": "99e8ee2e",
   "metadata": {},
   "source": [
    "# Finding Accuracy Using Metrics"
   ]
  },
  {
   "cell_type": "code",
   "execution_count": 117,
   "id": "58808cf3",
   "metadata": {},
   "outputs": [
    {
     "name": "stdout",
     "output_type": "stream",
     "text": [
      "The Accuracy Of Decision Tree Is:  65.04065040650406\n"
     ]
    }
   ],
   "source": [
    "from sklearn import metrics\n",
    "print(\"The Accuracy Of Decision Tree Is: \", metrics.accuracy_score(y_pred, y_test)*100)"
   ]
  },
  {
   "cell_type": "markdown",
   "id": "5cb6f621",
   "metadata": {},
   "source": [
    "# A Score of 65% Not Good So Applying Other Algorithm"
   ]
  },
  {
   "cell_type": "code",
   "execution_count": 118,
   "id": "2e96d8b8",
   "metadata": {},
   "outputs": [
    {
     "data": {
      "text/html": [
       "<style>#sk-container-id-10 {color: black;}#sk-container-id-10 pre{padding: 0;}#sk-container-id-10 div.sk-toggleable {background-color: white;}#sk-container-id-10 label.sk-toggleable__label {cursor: pointer;display: block;width: 100%;margin-bottom: 0;padding: 0.3em;box-sizing: border-box;text-align: center;}#sk-container-id-10 label.sk-toggleable__label-arrow:before {content: \"▸\";float: left;margin-right: 0.25em;color: #696969;}#sk-container-id-10 label.sk-toggleable__label-arrow:hover:before {color: black;}#sk-container-id-10 div.sk-estimator:hover label.sk-toggleable__label-arrow:before {color: black;}#sk-container-id-10 div.sk-toggleable__content {max-height: 0;max-width: 0;overflow: hidden;text-align: left;background-color: #f0f8ff;}#sk-container-id-10 div.sk-toggleable__content pre {margin: 0.2em;color: black;border-radius: 0.25em;background-color: #f0f8ff;}#sk-container-id-10 input.sk-toggleable__control:checked~div.sk-toggleable__content {max-height: 200px;max-width: 100%;overflow: auto;}#sk-container-id-10 input.sk-toggleable__control:checked~label.sk-toggleable__label-arrow:before {content: \"▾\";}#sk-container-id-10 div.sk-estimator input.sk-toggleable__control:checked~label.sk-toggleable__label {background-color: #d4ebff;}#sk-container-id-10 div.sk-label input.sk-toggleable__control:checked~label.sk-toggleable__label {background-color: #d4ebff;}#sk-container-id-10 input.sk-hidden--visually {border: 0;clip: rect(1px 1px 1px 1px);clip: rect(1px, 1px, 1px, 1px);height: 1px;margin: -1px;overflow: hidden;padding: 0;position: absolute;width: 1px;}#sk-container-id-10 div.sk-estimator {font-family: monospace;background-color: #f0f8ff;border: 1px dotted black;border-radius: 0.25em;box-sizing: border-box;margin-bottom: 0.5em;}#sk-container-id-10 div.sk-estimator:hover {background-color: #d4ebff;}#sk-container-id-10 div.sk-parallel-item::after {content: \"\";width: 100%;border-bottom: 1px solid gray;flex-grow: 1;}#sk-container-id-10 div.sk-label:hover label.sk-toggleable__label {background-color: #d4ebff;}#sk-container-id-10 div.sk-serial::before {content: \"\";position: absolute;border-left: 1px solid gray;box-sizing: border-box;top: 0;bottom: 0;left: 50%;z-index: 0;}#sk-container-id-10 div.sk-serial {display: flex;flex-direction: column;align-items: center;background-color: white;padding-right: 0.2em;padding-left: 0.2em;position: relative;}#sk-container-id-10 div.sk-item {position: relative;z-index: 1;}#sk-container-id-10 div.sk-parallel {display: flex;align-items: stretch;justify-content: center;background-color: white;position: relative;}#sk-container-id-10 div.sk-item::before, #sk-container-id-10 div.sk-parallel-item::before {content: \"\";position: absolute;border-left: 1px solid gray;box-sizing: border-box;top: 0;bottom: 0;left: 50%;z-index: -1;}#sk-container-id-10 div.sk-parallel-item {display: flex;flex-direction: column;z-index: 1;position: relative;background-color: white;}#sk-container-id-10 div.sk-parallel-item:first-child::after {align-self: flex-end;width: 50%;}#sk-container-id-10 div.sk-parallel-item:last-child::after {align-self: flex-start;width: 50%;}#sk-container-id-10 div.sk-parallel-item:only-child::after {width: 0;}#sk-container-id-10 div.sk-dashed-wrapped {border: 1px dashed gray;margin: 0 0.4em 0.5em 0.4em;box-sizing: border-box;padding-bottom: 0.4em;background-color: white;}#sk-container-id-10 div.sk-label label {font-family: monospace;font-weight: bold;display: inline-block;line-height: 1.2em;}#sk-container-id-10 div.sk-label-container {text-align: center;}#sk-container-id-10 div.sk-container {/* jupyter's `normalize.less` sets `[hidden] { display: none; }` but bootstrap.min.css set `[hidden] { display: none !important; }` so we also need the `!important` here to be able to override the default hidden behavior on the sphinx rendered scikit-learn.org. See: https://github.com/scikit-learn/scikit-learn/issues/21755 */display: inline-block !important;position: relative;}#sk-container-id-10 div.sk-text-repr-fallback {display: none;}</style><div id=\"sk-container-id-10\" class=\"sk-top-container\"><div class=\"sk-text-repr-fallback\"><pre>GaussianNB()</pre><b>In a Jupyter environment, please rerun this cell to show the HTML representation or trust the notebook. <br />On GitHub, the HTML representation is unable to render, please try loading this page with nbviewer.org.</b></div><div class=\"sk-container\" hidden><div class=\"sk-item\"><div class=\"sk-estimator sk-toggleable\"><input class=\"sk-toggleable__control sk-hidden--visually\" id=\"sk-estimator-id-10\" type=\"checkbox\" checked><label for=\"sk-estimator-id-10\" class=\"sk-toggleable__label sk-toggleable__label-arrow\">GaussianNB</label><div class=\"sk-toggleable__content\"><pre>GaussianNB()</pre></div></div></div></div></div>"
      ],
      "text/plain": [
       "GaussianNB()"
      ]
     },
     "execution_count": 118,
     "metadata": {},
     "output_type": "execute_result"
    }
   ],
   "source": [
    "from sklearn.naive_bayes import GaussianNB\n",
    "NBClassifier = GaussianNB()\n",
    "NBClassifier.fit(X_train, y_train)"
   ]
  },
  {
   "cell_type": "code",
   "execution_count": 119,
   "id": "cd16067f",
   "metadata": {},
   "outputs": [],
   "source": [
    "y_pred = NBClassifier.predict(X_test)"
   ]
  },
  {
   "cell_type": "code",
   "execution_count": 120,
   "id": "b2e4d21a",
   "metadata": {},
   "outputs": [
    {
     "data": {
      "text/plain": [
       "array([0, 1, 0, 1, 1, 1, 1, 1, 1, 0, 0, 1, 1, 1, 1, 1, 1, 1, 1, 1, 1, 1,\n",
       "       1, 0, 1, 0, 1, 1, 1, 1, 1, 1, 0, 1, 1, 1, 1, 1, 1, 1, 0, 1, 1, 0,\n",
       "       1, 1, 1, 0, 1, 1, 0, 1, 0, 1, 1, 1, 1, 1, 1, 1, 1, 0, 1, 1, 0, 1,\n",
       "       1, 1, 1, 1, 1, 0, 1, 1, 0, 0, 1, 0, 1, 1, 1, 1, 1, 1, 1, 1, 1, 1,\n",
       "       1, 1, 1, 1, 1, 1, 1, 1, 1, 0, 1, 1, 0, 0, 0, 1, 1, 1, 1, 1, 1, 1,\n",
       "       0, 1, 1, 1, 1, 0, 1, 1, 1, 1, 1, 1, 1])"
      ]
     },
     "execution_count": 120,
     "metadata": {},
     "output_type": "execute_result"
    }
   ],
   "source": [
    "y_pred"
   ]
  },
  {
   "cell_type": "code",
   "execution_count": 121,
   "id": "b2fcab34",
   "metadata": {},
   "outputs": [
    {
     "name": "stdout",
     "output_type": "stream",
     "text": [
      "The Accuracy Of Naive Bayes Is:  84.5528455284553\n"
     ]
    }
   ],
   "source": [
    "print(\"The Accuracy Of Naive Bayes Is: \", metrics.accuracy_score(y_pred, y_test)*100)"
   ]
  },
  {
   "cell_type": "markdown",
   "id": "e71a6ef1",
   "metadata": {},
   "source": [
    "# Accuracy of 84% Quite Good But Try Another"
   ]
  },
  {
   "cell_type": "code",
   "execution_count": 122,
   "id": "ef73ecb6",
   "metadata": {},
   "outputs": [
    {
     "data": {
      "text/html": [
       "<style>#sk-container-id-11 {color: black;}#sk-container-id-11 pre{padding: 0;}#sk-container-id-11 div.sk-toggleable {background-color: white;}#sk-container-id-11 label.sk-toggleable__label {cursor: pointer;display: block;width: 100%;margin-bottom: 0;padding: 0.3em;box-sizing: border-box;text-align: center;}#sk-container-id-11 label.sk-toggleable__label-arrow:before {content: \"▸\";float: left;margin-right: 0.25em;color: #696969;}#sk-container-id-11 label.sk-toggleable__label-arrow:hover:before {color: black;}#sk-container-id-11 div.sk-estimator:hover label.sk-toggleable__label-arrow:before {color: black;}#sk-container-id-11 div.sk-toggleable__content {max-height: 0;max-width: 0;overflow: hidden;text-align: left;background-color: #f0f8ff;}#sk-container-id-11 div.sk-toggleable__content pre {margin: 0.2em;color: black;border-radius: 0.25em;background-color: #f0f8ff;}#sk-container-id-11 input.sk-toggleable__control:checked~div.sk-toggleable__content {max-height: 200px;max-width: 100%;overflow: auto;}#sk-container-id-11 input.sk-toggleable__control:checked~label.sk-toggleable__label-arrow:before {content: \"▾\";}#sk-container-id-11 div.sk-estimator input.sk-toggleable__control:checked~label.sk-toggleable__label {background-color: #d4ebff;}#sk-container-id-11 div.sk-label input.sk-toggleable__control:checked~label.sk-toggleable__label {background-color: #d4ebff;}#sk-container-id-11 input.sk-hidden--visually {border: 0;clip: rect(1px 1px 1px 1px);clip: rect(1px, 1px, 1px, 1px);height: 1px;margin: -1px;overflow: hidden;padding: 0;position: absolute;width: 1px;}#sk-container-id-11 div.sk-estimator {font-family: monospace;background-color: #f0f8ff;border: 1px dotted black;border-radius: 0.25em;box-sizing: border-box;margin-bottom: 0.5em;}#sk-container-id-11 div.sk-estimator:hover {background-color: #d4ebff;}#sk-container-id-11 div.sk-parallel-item::after {content: \"\";width: 100%;border-bottom: 1px solid gray;flex-grow: 1;}#sk-container-id-11 div.sk-label:hover label.sk-toggleable__label {background-color: #d4ebff;}#sk-container-id-11 div.sk-serial::before {content: \"\";position: absolute;border-left: 1px solid gray;box-sizing: border-box;top: 0;bottom: 0;left: 50%;z-index: 0;}#sk-container-id-11 div.sk-serial {display: flex;flex-direction: column;align-items: center;background-color: white;padding-right: 0.2em;padding-left: 0.2em;position: relative;}#sk-container-id-11 div.sk-item {position: relative;z-index: 1;}#sk-container-id-11 div.sk-parallel {display: flex;align-items: stretch;justify-content: center;background-color: white;position: relative;}#sk-container-id-11 div.sk-item::before, #sk-container-id-11 div.sk-parallel-item::before {content: \"\";position: absolute;border-left: 1px solid gray;box-sizing: border-box;top: 0;bottom: 0;left: 50%;z-index: -1;}#sk-container-id-11 div.sk-parallel-item {display: flex;flex-direction: column;z-index: 1;position: relative;background-color: white;}#sk-container-id-11 div.sk-parallel-item:first-child::after {align-self: flex-end;width: 50%;}#sk-container-id-11 div.sk-parallel-item:last-child::after {align-self: flex-start;width: 50%;}#sk-container-id-11 div.sk-parallel-item:only-child::after {width: 0;}#sk-container-id-11 div.sk-dashed-wrapped {border: 1px dashed gray;margin: 0 0.4em 0.5em 0.4em;box-sizing: border-box;padding-bottom: 0.4em;background-color: white;}#sk-container-id-11 div.sk-label label {font-family: monospace;font-weight: bold;display: inline-block;line-height: 1.2em;}#sk-container-id-11 div.sk-label-container {text-align: center;}#sk-container-id-11 div.sk-container {/* jupyter's `normalize.less` sets `[hidden] { display: none; }` but bootstrap.min.css set `[hidden] { display: none !important; }` so we also need the `!important` here to be able to override the default hidden behavior on the sphinx rendered scikit-learn.org. See: https://github.com/scikit-learn/scikit-learn/issues/21755 */display: inline-block !important;position: relative;}#sk-container-id-11 div.sk-text-repr-fallback {display: none;}</style><div id=\"sk-container-id-11\" class=\"sk-top-container\"><div class=\"sk-text-repr-fallback\"><pre>RandomForestClassifier()</pre><b>In a Jupyter environment, please rerun this cell to show the HTML representation or trust the notebook. <br />On GitHub, the HTML representation is unable to render, please try loading this page with nbviewer.org.</b></div><div class=\"sk-container\" hidden><div class=\"sk-item\"><div class=\"sk-estimator sk-toggleable\"><input class=\"sk-toggleable__control sk-hidden--visually\" id=\"sk-estimator-id-11\" type=\"checkbox\" checked><label for=\"sk-estimator-id-11\" class=\"sk-toggleable__label sk-toggleable__label-arrow\">RandomForestClassifier</label><div class=\"sk-toggleable__content\"><pre>RandomForestClassifier()</pre></div></div></div></div></div>"
      ],
      "text/plain": [
       "RandomForestClassifier()"
      ]
     },
     "execution_count": 122,
     "metadata": {},
     "output_type": "execute_result"
    }
   ],
   "source": [
    "from sklearn.ensemble import RandomForestClassifier\n",
    "RFClassifier = RandomForestClassifier()\n",
    "RFClassifier.fit(X_train, y_train)"
   ]
  },
  {
   "cell_type": "code",
   "execution_count": 123,
   "id": "b9f62582",
   "metadata": {},
   "outputs": [],
   "source": [
    "y_pred = RFClassifier.predict(X_test)"
   ]
  },
  {
   "cell_type": "code",
   "execution_count": 124,
   "id": "ac126aec",
   "metadata": {},
   "outputs": [
    {
     "name": "stdout",
     "output_type": "stream",
     "text": [
      "The Accuracy Of Random Forest Is:  78.04878048780488\n"
     ]
    }
   ],
   "source": [
    "print(\"The Accuracy Of Random Forest Is: \", metrics.accuracy_score(y_pred, y_test)*100)"
   ]
  },
  {
   "cell_type": "markdown",
   "id": "2954b11f",
   "metadata": {},
   "source": [
    "# Accuracy is 78% Trying Another"
   ]
  },
  {
   "cell_type": "code",
   "execution_count": 125,
   "id": "38340911",
   "metadata": {},
   "outputs": [
    {
     "data": {
      "text/html": [
       "<style>#sk-container-id-12 {color: black;}#sk-container-id-12 pre{padding: 0;}#sk-container-id-12 div.sk-toggleable {background-color: white;}#sk-container-id-12 label.sk-toggleable__label {cursor: pointer;display: block;width: 100%;margin-bottom: 0;padding: 0.3em;box-sizing: border-box;text-align: center;}#sk-container-id-12 label.sk-toggleable__label-arrow:before {content: \"▸\";float: left;margin-right: 0.25em;color: #696969;}#sk-container-id-12 label.sk-toggleable__label-arrow:hover:before {color: black;}#sk-container-id-12 div.sk-estimator:hover label.sk-toggleable__label-arrow:before {color: black;}#sk-container-id-12 div.sk-toggleable__content {max-height: 0;max-width: 0;overflow: hidden;text-align: left;background-color: #f0f8ff;}#sk-container-id-12 div.sk-toggleable__content pre {margin: 0.2em;color: black;border-radius: 0.25em;background-color: #f0f8ff;}#sk-container-id-12 input.sk-toggleable__control:checked~div.sk-toggleable__content {max-height: 200px;max-width: 100%;overflow: auto;}#sk-container-id-12 input.sk-toggleable__control:checked~label.sk-toggleable__label-arrow:before {content: \"▾\";}#sk-container-id-12 div.sk-estimator input.sk-toggleable__control:checked~label.sk-toggleable__label {background-color: #d4ebff;}#sk-container-id-12 div.sk-label input.sk-toggleable__control:checked~label.sk-toggleable__label {background-color: #d4ebff;}#sk-container-id-12 input.sk-hidden--visually {border: 0;clip: rect(1px 1px 1px 1px);clip: rect(1px, 1px, 1px, 1px);height: 1px;margin: -1px;overflow: hidden;padding: 0;position: absolute;width: 1px;}#sk-container-id-12 div.sk-estimator {font-family: monospace;background-color: #f0f8ff;border: 1px dotted black;border-radius: 0.25em;box-sizing: border-box;margin-bottom: 0.5em;}#sk-container-id-12 div.sk-estimator:hover {background-color: #d4ebff;}#sk-container-id-12 div.sk-parallel-item::after {content: \"\";width: 100%;border-bottom: 1px solid gray;flex-grow: 1;}#sk-container-id-12 div.sk-label:hover label.sk-toggleable__label {background-color: #d4ebff;}#sk-container-id-12 div.sk-serial::before {content: \"\";position: absolute;border-left: 1px solid gray;box-sizing: border-box;top: 0;bottom: 0;left: 50%;z-index: 0;}#sk-container-id-12 div.sk-serial {display: flex;flex-direction: column;align-items: center;background-color: white;padding-right: 0.2em;padding-left: 0.2em;position: relative;}#sk-container-id-12 div.sk-item {position: relative;z-index: 1;}#sk-container-id-12 div.sk-parallel {display: flex;align-items: stretch;justify-content: center;background-color: white;position: relative;}#sk-container-id-12 div.sk-item::before, #sk-container-id-12 div.sk-parallel-item::before {content: \"\";position: absolute;border-left: 1px solid gray;box-sizing: border-box;top: 0;bottom: 0;left: 50%;z-index: -1;}#sk-container-id-12 div.sk-parallel-item {display: flex;flex-direction: column;z-index: 1;position: relative;background-color: white;}#sk-container-id-12 div.sk-parallel-item:first-child::after {align-self: flex-end;width: 50%;}#sk-container-id-12 div.sk-parallel-item:last-child::after {align-self: flex-start;width: 50%;}#sk-container-id-12 div.sk-parallel-item:only-child::after {width: 0;}#sk-container-id-12 div.sk-dashed-wrapped {border: 1px dashed gray;margin: 0 0.4em 0.5em 0.4em;box-sizing: border-box;padding-bottom: 0.4em;background-color: white;}#sk-container-id-12 div.sk-label label {font-family: monospace;font-weight: bold;display: inline-block;line-height: 1.2em;}#sk-container-id-12 div.sk-label-container {text-align: center;}#sk-container-id-12 div.sk-container {/* jupyter's `normalize.less` sets `[hidden] { display: none; }` but bootstrap.min.css set `[hidden] { display: none !important; }` so we also need the `!important` here to be able to override the default hidden behavior on the sphinx rendered scikit-learn.org. See: https://github.com/scikit-learn/scikit-learn/issues/21755 */display: inline-block !important;position: relative;}#sk-container-id-12 div.sk-text-repr-fallback {display: none;}</style><div id=\"sk-container-id-12\" class=\"sk-top-container\"><div class=\"sk-text-repr-fallback\"><pre>KNeighborsClassifier()</pre><b>In a Jupyter environment, please rerun this cell to show the HTML representation or trust the notebook. <br />On GitHub, the HTML representation is unable to render, please try loading this page with nbviewer.org.</b></div><div class=\"sk-container\" hidden><div class=\"sk-item\"><div class=\"sk-estimator sk-toggleable\"><input class=\"sk-toggleable__control sk-hidden--visually\" id=\"sk-estimator-id-12\" type=\"checkbox\" checked><label for=\"sk-estimator-id-12\" class=\"sk-toggleable__label sk-toggleable__label-arrow\">KNeighborsClassifier</label><div class=\"sk-toggleable__content\"><pre>KNeighborsClassifier()</pre></div></div></div></div></div>"
      ],
      "text/plain": [
       "KNeighborsClassifier()"
      ]
     },
     "execution_count": 125,
     "metadata": {},
     "output_type": "execute_result"
    }
   ],
   "source": [
    "from sklearn.neighbors import KNeighborsClassifier\n",
    "KNClassifier = KNeighborsClassifier()\n",
    "KNClassifier.fit(X_train, y_train)"
   ]
  },
  {
   "cell_type": "code",
   "execution_count": 126,
   "id": "29d5e1d0",
   "metadata": {},
   "outputs": [],
   "source": [
    "y_pred = KNClassifier.predict(X_test)"
   ]
  },
  {
   "cell_type": "code",
   "execution_count": 127,
   "id": "461fc64a",
   "metadata": {},
   "outputs": [
    {
     "name": "stdout",
     "output_type": "stream",
     "text": [
      "The Accuracy Of Neighbors Classifier Is:  79.67479674796748\n"
     ]
    }
   ],
   "source": [
    "print(\"The Accuracy Of Neighbors Classifier Is: \", metrics.accuracy_score(y_pred, y_test)*100)"
   ]
  },
  {
   "cell_type": "markdown",
   "id": "5817abe0",
   "metadata": {},
   "source": [
    "# Accuracy of 79%. Thus We Use Bayes"
   ]
  },
  {
   "cell_type": "markdown",
   "id": "112e2965",
   "metadata": {},
   "source": [
    "# Trying Bayes on Test Data Having No Eligibility Label "
   ]
  },
  {
   "cell_type": "code",
   "execution_count": 129,
   "id": "ca22ddee",
   "metadata": {},
   "outputs": [],
   "source": [
    "data = pd.read_csv(r\"C:\\Users\\falco\\OneDrive\\Desktop\\PROJECTS\\PYTHON PROJECTS\\MY PROJECTS\\MACHINE LEARNING\\Loan Approval\\LoanTest.csv\")"
   ]
  },
  {
   "cell_type": "markdown",
   "id": "a78d622b",
   "metadata": {},
   "source": [
    "# Visualising Head"
   ]
  },
  {
   "cell_type": "code",
   "execution_count": 130,
   "id": "7e05bc14",
   "metadata": {},
   "outputs": [
    {
     "data": {
      "text/html": [
       "<div>\n",
       "<style scoped>\n",
       "    .dataframe tbody tr th:only-of-type {\n",
       "        vertical-align: middle;\n",
       "    }\n",
       "\n",
       "    .dataframe tbody tr th {\n",
       "        vertical-align: top;\n",
       "    }\n",
       "\n",
       "    .dataframe thead th {\n",
       "        text-align: right;\n",
       "    }\n",
       "</style>\n",
       "<table border=\"1\" class=\"dataframe\">\n",
       "  <thead>\n",
       "    <tr style=\"text-align: right;\">\n",
       "      <th></th>\n",
       "      <th>Loan_ID</th>\n",
       "      <th>Gender</th>\n",
       "      <th>Married</th>\n",
       "      <th>Dependents</th>\n",
       "      <th>Education</th>\n",
       "      <th>Self_Employed</th>\n",
       "      <th>ApplicantIncome</th>\n",
       "      <th>CoapplicantIncome</th>\n",
       "      <th>LoanAmount</th>\n",
       "      <th>Loan_Amount_Term</th>\n",
       "      <th>Credit_History</th>\n",
       "      <th>Property_Area</th>\n",
       "    </tr>\n",
       "  </thead>\n",
       "  <tbody>\n",
       "    <tr>\n",
       "      <th>0</th>\n",
       "      <td>LP001003</td>\n",
       "      <td>Male</td>\n",
       "      <td>Yes</td>\n",
       "      <td>1</td>\n",
       "      <td>Graduate</td>\n",
       "      <td>No</td>\n",
       "      <td>4583</td>\n",
       "      <td>1508.0</td>\n",
       "      <td>128</td>\n",
       "      <td>360</td>\n",
       "      <td>1</td>\n",
       "      <td>Rural</td>\n",
       "    </tr>\n",
       "    <tr>\n",
       "      <th>1</th>\n",
       "      <td>LP001005</td>\n",
       "      <td>Male</td>\n",
       "      <td>Yes</td>\n",
       "      <td>0</td>\n",
       "      <td>Graduate</td>\n",
       "      <td>Yes</td>\n",
       "      <td>3000</td>\n",
       "      <td>0.0</td>\n",
       "      <td>66</td>\n",
       "      <td>360</td>\n",
       "      <td>1</td>\n",
       "      <td>Urban</td>\n",
       "    </tr>\n",
       "    <tr>\n",
       "      <th>2</th>\n",
       "      <td>LP001006</td>\n",
       "      <td>Male</td>\n",
       "      <td>Yes</td>\n",
       "      <td>0</td>\n",
       "      <td>Not Graduate</td>\n",
       "      <td>No</td>\n",
       "      <td>2583</td>\n",
       "      <td>2358.0</td>\n",
       "      <td>120</td>\n",
       "      <td>360</td>\n",
       "      <td>1</td>\n",
       "      <td>Urban</td>\n",
       "    </tr>\n",
       "    <tr>\n",
       "      <th>3</th>\n",
       "      <td>LP001008</td>\n",
       "      <td>Male</td>\n",
       "      <td>No</td>\n",
       "      <td>0</td>\n",
       "      <td>Graduate</td>\n",
       "      <td>No</td>\n",
       "      <td>6000</td>\n",
       "      <td>0.0</td>\n",
       "      <td>141</td>\n",
       "      <td>360</td>\n",
       "      <td>1</td>\n",
       "      <td>Urban</td>\n",
       "    </tr>\n",
       "    <tr>\n",
       "      <th>4</th>\n",
       "      <td>LP001011</td>\n",
       "      <td>Male</td>\n",
       "      <td>Yes</td>\n",
       "      <td>2</td>\n",
       "      <td>Graduate</td>\n",
       "      <td>Yes</td>\n",
       "      <td>5417</td>\n",
       "      <td>4196.0</td>\n",
       "      <td>267</td>\n",
       "      <td>360</td>\n",
       "      <td>1</td>\n",
       "      <td>Urban</td>\n",
       "    </tr>\n",
       "  </tbody>\n",
       "</table>\n",
       "</div>"
      ],
      "text/plain": [
       "    Loan_ID Gender Married Dependents     Education Self_Employed  \\\n",
       "0  LP001003   Male     Yes          1      Graduate            No   \n",
       "1  LP001005   Male     Yes          0      Graduate           Yes   \n",
       "2  LP001006   Male     Yes          0  Not Graduate            No   \n",
       "3  LP001008   Male      No          0      Graduate            No   \n",
       "4  LP001011   Male     Yes          2      Graduate           Yes   \n",
       "\n",
       "   ApplicantIncome  CoapplicantIncome  LoanAmount  Loan_Amount_Term  \\\n",
       "0             4583             1508.0         128               360   \n",
       "1             3000                0.0          66               360   \n",
       "2             2583             2358.0         120               360   \n",
       "3             6000                0.0         141               360   \n",
       "4             5417             4196.0         267               360   \n",
       "\n",
       "   Credit_History Property_Area  \n",
       "0               1         Rural  \n",
       "1               1         Urban  \n",
       "2               1         Urban  \n",
       "3               1         Urban  \n",
       "4               1         Urban  "
      ]
     },
     "execution_count": 130,
     "metadata": {},
     "output_type": "execute_result"
    }
   ],
   "source": [
    "data.head()"
   ]
  },
  {
   "cell_type": "markdown",
   "id": "ab78e748",
   "metadata": {},
   "source": [
    "# Making Sure There Are No Missing Values"
   ]
  },
  {
   "cell_type": "code",
   "execution_count": 131,
   "id": "b3fe3192",
   "metadata": {},
   "outputs": [
    {
     "data": {
      "text/plain": [
       "Loan_ID              0\n",
       "Gender               0\n",
       "Married              0\n",
       "Dependents           0\n",
       "Education            0\n",
       "Self_Employed        0\n",
       "ApplicantIncome      0\n",
       "CoapplicantIncome    0\n",
       "LoanAmount           0\n",
       "Loan_Amount_Term     0\n",
       "Credit_History       0\n",
       "Property_Area        0\n",
       "dtype: int64"
      ]
     },
     "execution_count": 131,
     "metadata": {},
     "output_type": "execute_result"
    }
   ],
   "source": [
    "data.isnull().sum()"
   ]
  },
  {
   "cell_type": "markdown",
   "id": "251a6a7e",
   "metadata": {},
   "source": [
    "# Normalizing and Visualising Here Too"
   ]
  },
  {
   "cell_type": "code",
   "execution_count": 132,
   "id": "744f0eea",
   "metadata": {},
   "outputs": [],
   "source": [
    "data['LoanAmount_log'] = np.log(data['LoanAmount'])"
   ]
  },
  {
   "cell_type": "code",
   "execution_count": 133,
   "id": "d05786bf",
   "metadata": {},
   "outputs": [],
   "source": [
    "data['TotalIncome'] = data['ApplicantIncome'] + data['CoapplicantIncome']\n",
    "data['TotalIncome_Log'] = np.log(data['TotalIncome'])"
   ]
  },
  {
   "cell_type": "code",
   "execution_count": 134,
   "id": "5819cefe",
   "metadata": {},
   "outputs": [
    {
     "data": {
      "text/plain": [
       "<Axes: >"
      ]
     },
     "execution_count": 134,
     "metadata": {},
     "output_type": "execute_result"
    },
    {
     "data": {
      "image/png": "[encoded data removed]",
      "text/plain": [
       "<Figure size 640x480 with 1 Axes>"
      ]
     },
     "metadata": {},
     "output_type": "display_data"
    }
   ],
   "source": [
    "data['TotalIncome_Log'].hist(bins = 20)"
   ]
  },
  {
   "cell_type": "code",
   "execution_count": 135,
   "id": "44fe4571",
   "metadata": {},
   "outputs": [
    {
     "data": {
      "text/html": [
       "<div>\n",
       "<style scoped>\n",
       "    .dataframe tbody tr th:only-of-type {\n",
       "        vertical-align: middle;\n",
       "    }\n",
       "\n",
       "    .dataframe tbody tr th {\n",
       "        vertical-align: top;\n",
       "    }\n",
       "\n",
       "    .dataframe thead th {\n",
       "        text-align: right;\n",
       "    }\n",
       "</style>\n",
       "<table border=\"1\" class=\"dataframe\">\n",
       "  <thead>\n",
       "    <tr style=\"text-align: right;\">\n",
       "      <th></th>\n",
       "      <th>Loan_ID</th>\n",
       "      <th>Gender</th>\n",
       "      <th>Married</th>\n",
       "      <th>Dependents</th>\n",
       "      <th>Education</th>\n",
       "      <th>Self_Employed</th>\n",
       "      <th>ApplicantIncome</th>\n",
       "      <th>CoapplicantIncome</th>\n",
       "      <th>LoanAmount</th>\n",
       "      <th>Loan_Amount_Term</th>\n",
       "      <th>Credit_History</th>\n",
       "      <th>Property_Area</th>\n",
       "      <th>LoanAmount_log</th>\n",
       "      <th>TotalIncome</th>\n",
       "      <th>TotalIncome_Log</th>\n",
       "    </tr>\n",
       "  </thead>\n",
       "  <tbody>\n",
       "    <tr>\n",
       "      <th>0</th>\n",
       "      <td>LP001003</td>\n",
       "      <td>Male</td>\n",
       "      <td>Yes</td>\n",
       "      <td>1</td>\n",
       "      <td>Graduate</td>\n",
       "      <td>No</td>\n",
       "      <td>4583</td>\n",
       "      <td>1508.0</td>\n",
       "      <td>128</td>\n",
       "      <td>360</td>\n",
       "      <td>1</td>\n",
       "      <td>Rural</td>\n",
       "      <td>4.852030</td>\n",
       "      <td>6091.0</td>\n",
       "      <td>8.714568</td>\n",
       "    </tr>\n",
       "    <tr>\n",
       "      <th>1</th>\n",
       "      <td>LP001005</td>\n",
       "      <td>Male</td>\n",
       "      <td>Yes</td>\n",
       "      <td>0</td>\n",
       "      <td>Graduate</td>\n",
       "      <td>Yes</td>\n",
       "      <td>3000</td>\n",
       "      <td>0.0</td>\n",
       "      <td>66</td>\n",
       "      <td>360</td>\n",
       "      <td>1</td>\n",
       "      <td>Urban</td>\n",
       "      <td>4.189655</td>\n",
       "      <td>3000.0</td>\n",
       "      <td>8.006368</td>\n",
       "    </tr>\n",
       "    <tr>\n",
       "      <th>2</th>\n",
       "      <td>LP001006</td>\n",
       "      <td>Male</td>\n",
       "      <td>Yes</td>\n",
       "      <td>0</td>\n",
       "      <td>Not Graduate</td>\n",
       "      <td>No</td>\n",
       "      <td>2583</td>\n",
       "      <td>2358.0</td>\n",
       "      <td>120</td>\n",
       "      <td>360</td>\n",
       "      <td>1</td>\n",
       "      <td>Urban</td>\n",
       "      <td>4.787492</td>\n",
       "      <td>4941.0</td>\n",
       "      <td>8.505323</td>\n",
       "    </tr>\n",
       "    <tr>\n",
       "      <th>3</th>\n",
       "      <td>LP001008</td>\n",
       "      <td>Male</td>\n",
       "      <td>No</td>\n",
       "      <td>0</td>\n",
       "      <td>Graduate</td>\n",
       "      <td>No</td>\n",
       "      <td>6000</td>\n",
       "      <td>0.0</td>\n",
       "      <td>141</td>\n",
       "      <td>360</td>\n",
       "      <td>1</td>\n",
       "      <td>Urban</td>\n",
       "      <td>4.948760</td>\n",
       "      <td>6000.0</td>\n",
       "      <td>8.699515</td>\n",
       "    </tr>\n",
       "    <tr>\n",
       "      <th>4</th>\n",
       "      <td>LP001011</td>\n",
       "      <td>Male</td>\n",
       "      <td>Yes</td>\n",
       "      <td>2</td>\n",
       "      <td>Graduate</td>\n",
       "      <td>Yes</td>\n",
       "      <td>5417</td>\n",
       "      <td>4196.0</td>\n",
       "      <td>267</td>\n",
       "      <td>360</td>\n",
       "      <td>1</td>\n",
       "      <td>Urban</td>\n",
       "      <td>5.587249</td>\n",
       "      <td>9613.0</td>\n",
       "      <td>9.170872</td>\n",
       "    </tr>\n",
       "  </tbody>\n",
       "</table>\n",
       "</div>"
      ],
      "text/plain": [
       "    Loan_ID Gender Married Dependents     Education Self_Employed  \\\n",
       "0  LP001003   Male     Yes          1      Graduate            No   \n",
       "1  LP001005   Male     Yes          0      Graduate           Yes   \n",
       "2  LP001006   Male     Yes          0  Not Graduate            No   \n",
       "3  LP001008   Male      No          0      Graduate            No   \n",
       "4  LP001011   Male     Yes          2      Graduate           Yes   \n",
       "\n",
       "   ApplicantIncome  CoapplicantIncome  LoanAmount  Loan_Amount_Term  \\\n",
       "0             4583             1508.0         128               360   \n",
       "1             3000                0.0          66               360   \n",
       "2             2583             2358.0         120               360   \n",
       "3             6000                0.0         141               360   \n",
       "4             5417             4196.0         267               360   \n",
       "\n",
       "   Credit_History Property_Area  LoanAmount_log  TotalIncome  TotalIncome_Log  \n",
       "0               1         Rural        4.852030       6091.0         8.714568  \n",
       "1               1         Urban        4.189655       3000.0         8.006368  \n",
       "2               1         Urban        4.787492       4941.0         8.505323  \n",
       "3               1         Urban        4.948760       6000.0         8.699515  \n",
       "4               1         Urban        5.587249       9613.0         9.170872  "
      ]
     },
     "execution_count": 135,
     "metadata": {},
     "output_type": "execute_result"
    }
   ],
   "source": [
    "data.head()"
   ]
  },
  {
   "cell_type": "markdown",
   "id": "1b975add",
   "metadata": {},
   "source": [
    "# Selecting data into variable"
   ]
  },
  {
   "cell_type": "code",
   "execution_count": 136,
   "id": "718f61c1",
   "metadata": {},
   "outputs": [],
   "source": [
    "test = data.iloc[:,np.r_[1:5,9:11,13:15]].values"
   ]
  },
  {
   "cell_type": "markdown",
   "id": "b4d5b46e",
   "metadata": {},
   "source": [
    "# Convert categorical to num"
   ]
  },
  {
   "cell_type": "code",
   "execution_count": 137,
   "id": "ba19d191",
   "metadata": {},
   "outputs": [],
   "source": [
    "for i in range(0, 5):\n",
    "    test[:,i] = labelencoder_X.fit_transform(test[:,i])"
   ]
  },
  {
   "cell_type": "code",
   "execution_count": 138,
   "id": "ceeacbca",
   "metadata": {},
   "outputs": [],
   "source": [
    "test[:,7] = labelencoder_X.fit_transform(test[:,7])"
   ]
  },
  {
   "cell_type": "code",
   "execution_count": 139,
   "id": "c0f3b65d",
   "metadata": {},
   "outputs": [
    {
     "data": {
      "text/plain": [
       "array([[1, 1, 1, ..., 1, 6091.0, 261],\n",
       "       [1, 1, 0, ..., 1, 3000.0, 34],\n",
       "       [1, 1, 0, ..., 1, 4941.0, 185],\n",
       "       ...,\n",
       "       [1, 1, 1, ..., 1, 8312.0, 338],\n",
       "       [1, 1, 2, ..., 1, 7583.0, 322],\n",
       "       [0, 0, 0, ..., 0, 4583.0, 144]], dtype=object)"
      ]
     },
     "execution_count": 139,
     "metadata": {},
     "output_type": "execute_result"
    }
   ],
   "source": [
    "test"
   ]
  },
  {
   "cell_type": "markdown",
   "id": "b6ce4686",
   "metadata": {},
   "source": [
    "# Scaling test data"
   ]
  },
  {
   "cell_type": "code",
   "execution_count": 140,
   "id": "bd556a67",
   "metadata": {},
   "outputs": [],
   "source": [
    "test = sc.fit_transform(test)"
   ]
  },
  {
   "cell_type": "markdown",
   "id": "91fb53fb",
   "metadata": {},
   "source": [
    "# Finally let's predict"
   ]
  },
  {
   "cell_type": "code",
   "execution_count": 141,
   "id": "2acab373",
   "metadata": {},
   "outputs": [],
   "source": [
    "pred = NBClassifier.predict(test)"
   ]
  },
  {
   "cell_type": "code",
   "execution_count": 142,
   "id": "82f5fbb9",
   "metadata": {},
   "outputs": [
    {
     "data": {
      "text/plain": [
       "array([1, 1, 1, 1, 1, 1, 0, 1, 1, 1, 1, 1, 1, 1, 0, 1, 0, 1, 0, 1, 1, 1,\n",
       "       1, 1, 1, 1, 1, 1, 1, 1, 1, 1, 1, 1, 1, 0, 1, 1, 1, 1, 1, 0, 1, 1,\n",
       "       1, 1, 1, 1, 1, 0, 0, 1, 0, 1, 0, 0, 1, 1, 1, 1, 1, 1, 1, 0, 1, 1,\n",
       "       1, 1, 1, 1, 1, 1, 1, 1, 1, 1, 1, 1, 1, 1, 1, 1, 1, 1, 0, 1, 1, 1,\n",
       "       1, 1, 1, 1, 0, 1, 1, 0, 1, 1, 1, 1, 1, 1, 1, 0, 1, 1, 1, 1, 1, 1,\n",
       "       1, 1, 1, 1, 1, 0, 1, 1, 1, 1, 0, 1, 1, 1, 1, 0, 1, 1, 1, 1, 0, 1,\n",
       "       1, 1, 1, 1, 1, 0, 1, 0, 0, 1, 1, 1, 1, 0, 1, 1, 1, 1, 1, 1, 1, 1,\n",
       "       1, 1, 0, 1, 1, 1, 1, 1, 1, 1, 1, 0, 1, 1, 1, 1, 1, 1, 0, 1, 1, 1,\n",
       "       1, 1, 1, 1, 1, 1, 1, 1, 1, 1, 1, 0, 1, 1, 1, 1, 1, 1, 1, 0, 1, 1,\n",
       "       1, 0, 1, 0, 1, 1, 1, 0, 1, 1, 1, 1, 0, 1, 1, 1, 1, 1, 1, 1, 1, 1,\n",
       "       1, 0, 1, 1, 1, 1, 1, 1, 1, 1, 1, 0, 1, 1, 1, 1, 1, 1, 0, 1, 1, 1,\n",
       "       1, 0, 1, 1, 1, 1, 1, 1, 1, 1, 1, 1, 0, 0, 1, 1, 1, 1, 1, 1, 1, 1,\n",
       "       1, 1, 1, 1, 1, 1, 1, 1, 1, 0, 1, 1, 1, 0, 1, 1, 1, 1, 1, 1, 1, 1,\n",
       "       1, 1, 1, 1, 0, 1, 1, 1, 1, 1, 1, 1, 1, 1, 1, 1, 1, 1, 1, 1, 0, 1,\n",
       "       1, 0, 0, 1, 1, 1, 1, 1, 1, 1, 0, 0, 1, 0, 1, 0, 1, 1, 1, 1, 1, 1,\n",
       "       1, 1, 1, 1, 1, 1, 1, 1, 0, 1, 1, 1, 0, 1, 1, 1, 1, 1, 1, 1, 0, 0,\n",
       "       0, 0, 1, 1, 1, 1, 1, 1, 1, 1, 0, 1, 0, 1, 1, 0, 1, 1, 1, 1, 1, 1,\n",
       "       1, 1, 1, 1, 1, 0, 1, 1, 1, 1, 1, 0, 1, 1, 1, 0, 1, 1, 1, 1, 1, 1,\n",
       "       1, 1, 1, 1, 1, 1, 1, 1, 1, 1, 1, 1, 1, 1, 1, 1, 0, 1, 1, 1, 0, 1,\n",
       "       1, 1, 1, 1, 1, 0, 1, 1, 0, 1, 0, 1, 1, 0, 0, 1, 1, 1, 1, 1, 1, 1,\n",
       "       1, 0, 1, 0, 1, 0, 1, 1, 1, 1, 1, 1, 1, 1, 1, 1, 0, 1, 1, 1, 0, 1,\n",
       "       1, 1, 1, 1, 1, 1, 1, 1, 1, 1, 1, 1, 1, 1, 1, 1, 1, 0])"
      ]
     },
     "execution_count": 142,
     "metadata": {},
     "output_type": "execute_result"
    }
   ],
   "source": [
    "pred"
   ]
  }
 ],
 "metadata": {
  "kernelspec": {
   "display_name": "Python 3 (ipykernel)",
   "language": "python",
   "name": "python3"
  },
  "language_info": {
   "codemirror_mode": {
    "name": "ipython",
    "version": 3
   },
   "file_extension": ".py",
   "mimetype": "text/x-python",
   "name": "python",
   "nbconvert_exporter": "python",
   "pygments_lexer": "ipython3",
   "version": "3.11.4"
  }
 },
 "nbformat": 4,
 "nbformat_minor": 5
}
